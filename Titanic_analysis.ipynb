{
 "cells": [
  {
   "cell_type": "markdown",
   "id": "e1567ef0",
   "metadata": {},
   "source": [
    "# M2.851 Tipología y ciclo de vida de los datos\n",
    "### Práctica 2. Limpieza y análisis de datos\n",
    "\n",
    "\n",
    "Estudiantes: \n",
    "+ Erika Martínez Soria\n",
    "+ Eugenia Bezek"
   ]
  },
  {
   "cell_type": "markdown",
   "id": "e45981b3",
   "metadata": {},
   "source": [
    "# 1. Descripción del conjunto de datos\n",
    "\n",
    "#### Importancia y objetivos de los análisis\n",
    "\n",
    "A partir de este conjunto de datos que representa distintas características de un grupo de 890 pasajeros del Titanic, se pretende por un lado determinar cuáles son las variables que más influyeron para que un pasajero sobreviva o no y también crear un modelo de regresión logística que dadas ciertas características de una persona nos devuelva la probabilidad de supervivencia. Tambíen podremos aplicar contrastes de hipótesis que nos ayudarán a resolver preguntas interesantes de la muestra para luego inferirlas a la población.\n",
    "\n",
    "Es interesante resolver estas preguntas para entender qué se hizo mal en esa situación y modificar las medidas de rescate, prevención, salidas de emergencia, para que en caso de que otro barco de esas dimensiones se hunda no haya que lamentar víctimas fatales."
   ]
  },
  {
   "cell_type": "markdown",
   "id": "d7c7aed0",
   "metadata": {},
   "source": [
    "### Lectura del fichero de datos"
   ]
  },
  {
   "cell_type": "code",
   "execution_count": 98,
   "id": "de7581d0",
   "metadata": {},
   "outputs": [],
   "source": [
    "%matplotlib inline\n",
    "\n",
    "import numpy as np\n",
    "import pandas as pd\n",
    "import seaborn as sns\n",
    "import matplotlib.pyplot as plt"
   ]
  },
  {
   "cell_type": "code",
   "execution_count": 99,
   "id": "9a3435f6",
   "metadata": {},
   "outputs": [],
   "source": [
    "df = pd.read_csv('titanic.csv', header = 0)"
   ]
  },
  {
   "cell_type": "code",
   "execution_count": 100,
   "id": "faadbd32",
   "metadata": {},
   "outputs": [
    {
     "data": {
      "text/html": [
       "<div>\n",
       "<style scoped>\n",
       "    .dataframe tbody tr th:only-of-type {\n",
       "        vertical-align: middle;\n",
       "    }\n",
       "\n",
       "    .dataframe tbody tr th {\n",
       "        vertical-align: top;\n",
       "    }\n",
       "\n",
       "    .dataframe thead th {\n",
       "        text-align: right;\n",
       "    }\n",
       "</style>\n",
       "<table border=\"1\" class=\"dataframe\">\n",
       "  <thead>\n",
       "    <tr style=\"text-align: right;\">\n",
       "      <th></th>\n",
       "      <th>PassengerId</th>\n",
       "      <th>Survived</th>\n",
       "      <th>Pclass</th>\n",
       "      <th>Name</th>\n",
       "      <th>Sex</th>\n",
       "      <th>Age</th>\n",
       "      <th>SibSp</th>\n",
       "      <th>Parch</th>\n",
       "      <th>Ticket</th>\n",
       "      <th>Fare</th>\n",
       "      <th>Cabin</th>\n",
       "      <th>Embarked</th>\n",
       "    </tr>\n",
       "  </thead>\n",
       "  <tbody>\n",
       "    <tr>\n",
       "      <th>0</th>\n",
       "      <td>1</td>\n",
       "      <td>0</td>\n",
       "      <td>3</td>\n",
       "      <td>Braund, Mr. Owen Harris</td>\n",
       "      <td>male</td>\n",
       "      <td>22.0</td>\n",
       "      <td>1</td>\n",
       "      <td>0</td>\n",
       "      <td>A/5 21171</td>\n",
       "      <td>7.2500</td>\n",
       "      <td>NaN</td>\n",
       "      <td>S</td>\n",
       "    </tr>\n",
       "    <tr>\n",
       "      <th>1</th>\n",
       "      <td>2</td>\n",
       "      <td>1</td>\n",
       "      <td>1</td>\n",
       "      <td>Cumings, Mrs. John Bradley (Florence Briggs Th...</td>\n",
       "      <td>female</td>\n",
       "      <td>38.0</td>\n",
       "      <td>1</td>\n",
       "      <td>0</td>\n",
       "      <td>PC 17599</td>\n",
       "      <td>71.2833</td>\n",
       "      <td>C85</td>\n",
       "      <td>C</td>\n",
       "    </tr>\n",
       "    <tr>\n",
       "      <th>2</th>\n",
       "      <td>3</td>\n",
       "      <td>1</td>\n",
       "      <td>3</td>\n",
       "      <td>Heikkinen, Miss. Laina</td>\n",
       "      <td>female</td>\n",
       "      <td>26.0</td>\n",
       "      <td>0</td>\n",
       "      <td>0</td>\n",
       "      <td>STON/O2. 3101282</td>\n",
       "      <td>7.9250</td>\n",
       "      <td>NaN</td>\n",
       "      <td>S</td>\n",
       "    </tr>\n",
       "    <tr>\n",
       "      <th>3</th>\n",
       "      <td>4</td>\n",
       "      <td>1</td>\n",
       "      <td>1</td>\n",
       "      <td>Futrelle, Mrs. Jacques Heath (Lily May Peel)</td>\n",
       "      <td>female</td>\n",
       "      <td>35.0</td>\n",
       "      <td>1</td>\n",
       "      <td>0</td>\n",
       "      <td>113803</td>\n",
       "      <td>53.1000</td>\n",
       "      <td>C123</td>\n",
       "      <td>S</td>\n",
       "    </tr>\n",
       "    <tr>\n",
       "      <th>4</th>\n",
       "      <td>5</td>\n",
       "      <td>0</td>\n",
       "      <td>3</td>\n",
       "      <td>Allen, Mr. William Henry</td>\n",
       "      <td>male</td>\n",
       "      <td>35.0</td>\n",
       "      <td>0</td>\n",
       "      <td>0</td>\n",
       "      <td>373450</td>\n",
       "      <td>8.0500</td>\n",
       "      <td>NaN</td>\n",
       "      <td>S</td>\n",
       "    </tr>\n",
       "  </tbody>\n",
       "</table>\n",
       "</div>"
      ],
      "text/plain": [
       "   PassengerId  Survived  Pclass  \\\n",
       "0            1         0       3   \n",
       "1            2         1       1   \n",
       "2            3         1       3   \n",
       "3            4         1       1   \n",
       "4            5         0       3   \n",
       "\n",
       "                                                Name     Sex   Age  SibSp  \\\n",
       "0                            Braund, Mr. Owen Harris    male  22.0      1   \n",
       "1  Cumings, Mrs. John Bradley (Florence Briggs Th...  female  38.0      1   \n",
       "2                             Heikkinen, Miss. Laina  female  26.0      0   \n",
       "3       Futrelle, Mrs. Jacques Heath (Lily May Peel)  female  35.0      1   \n",
       "4                           Allen, Mr. William Henry    male  35.0      0   \n",
       "\n",
       "   Parch            Ticket     Fare Cabin Embarked  \n",
       "0      0         A/5 21171   7.2500   NaN        S  \n",
       "1      0          PC 17599  71.2833   C85        C  \n",
       "2      0  STON/O2. 3101282   7.9250   NaN        S  \n",
       "3      0            113803  53.1000  C123        S  \n",
       "4      0            373450   8.0500   NaN        S  "
      ]
     },
     "execution_count": 100,
     "metadata": {},
     "output_type": "execute_result"
    }
   ],
   "source": [
    "df.head()"
   ]
  },
  {
   "cell_type": "code",
   "execution_count": 101,
   "id": "0a7596c3",
   "metadata": {},
   "outputs": [
    {
     "name": "stdout",
     "output_type": "stream",
     "text": [
      "El dataframe tiene  891 observaciones y  12  varialbes\n"
     ]
    }
   ],
   "source": [
    "print('El dataframe tiene ',df.shape[0], 'observaciones y ',df.shape[1],' varialbes')"
   ]
  },
  {
   "cell_type": "markdown",
   "id": "3c71f281",
   "metadata": {},
   "source": [
    "### Descripción de los datos\n",
    "\n",
    "El conjunto de datos tiene 12 columnas o varables:\n",
    "\n",
    "**Passenger ID**: ID to identity each passenger\n",
    "\n",
    "**Name**\n",
    "\n",
    "**Survived**:\tSurvival\t\n",
    "+ 0 = No\n",
    "+ 1 = Yes\n",
    "\n",
    "**Pclass**:\tTicket class\t\n",
    "+ 1 = 1st\n",
    "+ 2 = 2nd\n",
    "+ 3 = 3rd\n",
    "\n",
    "**Sex**:\tSex\t\n",
    "**Age**:\tAge in years\t\n",
    "**Sibsp**:\t# of siblings / spouses aboard the Titanic\n",
    "+ Sibling = brother, sister, stepbrother, stepsister\n",
    "+ Spouse = husband, wife (mistresses and fiancés were ignored)\n",
    "\n",
    "**Parch**:\t# of parents / children aboard the Titanic\t\n",
    "+ Parent = mother, father\n",
    "+ Child = daughter, son, stepdaughter, stepson.\n",
    "+ Some children travelled only with a nanny, therefore parch=0 for them.\n",
    "\n",
    "**Ticket**:\tTicket number\t\n",
    "**Fare**:\tPassenger fare\t\n",
    "**Cabin**:\tCabin number\t\n",
    "**Embarked**:\tPort of Embarkation\t\n",
    "+ C = Cherbourg\n",
    "+ Q = Queenstown\n",
    "+ S = Southampton"
   ]
  },
  {
   "cell_type": "code",
   "execution_count": 102,
   "id": "2c8a0ca9",
   "metadata": {},
   "outputs": [
    {
     "name": "stdout",
     "output_type": "stream",
     "text": [
      "<class 'pandas.core.frame.DataFrame'>\n",
      "RangeIndex: 891 entries, 0 to 890\n",
      "Data columns (total 12 columns):\n",
      " #   Column       Non-Null Count  Dtype  \n",
      "---  ------       --------------  -----  \n",
      " 0   PassengerId  891 non-null    int64  \n",
      " 1   Survived     891 non-null    int64  \n",
      " 2   Pclass       891 non-null    int64  \n",
      " 3   Name         891 non-null    object \n",
      " 4   Sex          891 non-null    object \n",
      " 5   Age          714 non-null    float64\n",
      " 6   SibSp        891 non-null    int64  \n",
      " 7   Parch        891 non-null    int64  \n",
      " 8   Ticket       891 non-null    object \n",
      " 9   Fare         891 non-null    float64\n",
      " 10  Cabin        204 non-null    object \n",
      " 11  Embarked     889 non-null    object \n",
      "dtypes: float64(2), int64(5), object(5)\n",
      "memory usage: 83.7+ KB\n"
     ]
    }
   ],
   "source": [
    "df.info()"
   ]
  },
  {
   "cell_type": "markdown",
   "id": "caafe37b",
   "metadata": {},
   "source": [
    "Las variables **Age**, **Cabin** y **Embarked** están incompletas, ya que no tienen los 891 registros."
   ]
  },
  {
   "cell_type": "code",
   "execution_count": 103,
   "id": "805a0b76",
   "metadata": {
    "scrolled": true
   },
   "outputs": [
    {
     "data": {
      "text/html": [
       "<div>\n",
       "<style scoped>\n",
       "    .dataframe tbody tr th:only-of-type {\n",
       "        vertical-align: middle;\n",
       "    }\n",
       "\n",
       "    .dataframe tbody tr th {\n",
       "        vertical-align: top;\n",
       "    }\n",
       "\n",
       "    .dataframe thead th {\n",
       "        text-align: right;\n",
       "    }\n",
       "</style>\n",
       "<table border=\"1\" class=\"dataframe\">\n",
       "  <thead>\n",
       "    <tr style=\"text-align: right;\">\n",
       "      <th></th>\n",
       "      <th>PassengerId</th>\n",
       "      <th>Survived</th>\n",
       "      <th>Pclass</th>\n",
       "      <th>Age</th>\n",
       "      <th>SibSp</th>\n",
       "      <th>Parch</th>\n",
       "      <th>Fare</th>\n",
       "    </tr>\n",
       "  </thead>\n",
       "  <tbody>\n",
       "    <tr>\n",
       "      <th>count</th>\n",
       "      <td>891.000000</td>\n",
       "      <td>891.000000</td>\n",
       "      <td>891.000000</td>\n",
       "      <td>714.000000</td>\n",
       "      <td>891.000000</td>\n",
       "      <td>891.000000</td>\n",
       "      <td>891.000000</td>\n",
       "    </tr>\n",
       "    <tr>\n",
       "      <th>mean</th>\n",
       "      <td>446.000000</td>\n",
       "      <td>0.383838</td>\n",
       "      <td>2.308642</td>\n",
       "      <td>29.699118</td>\n",
       "      <td>0.523008</td>\n",
       "      <td>0.381594</td>\n",
       "      <td>32.204208</td>\n",
       "    </tr>\n",
       "    <tr>\n",
       "      <th>std</th>\n",
       "      <td>257.353842</td>\n",
       "      <td>0.486592</td>\n",
       "      <td>0.836071</td>\n",
       "      <td>14.526497</td>\n",
       "      <td>1.102743</td>\n",
       "      <td>0.806057</td>\n",
       "      <td>49.693429</td>\n",
       "    </tr>\n",
       "    <tr>\n",
       "      <th>min</th>\n",
       "      <td>1.000000</td>\n",
       "      <td>0.000000</td>\n",
       "      <td>1.000000</td>\n",
       "      <td>0.420000</td>\n",
       "      <td>0.000000</td>\n",
       "      <td>0.000000</td>\n",
       "      <td>0.000000</td>\n",
       "    </tr>\n",
       "    <tr>\n",
       "      <th>25%</th>\n",
       "      <td>223.500000</td>\n",
       "      <td>0.000000</td>\n",
       "      <td>2.000000</td>\n",
       "      <td>20.125000</td>\n",
       "      <td>0.000000</td>\n",
       "      <td>0.000000</td>\n",
       "      <td>7.910400</td>\n",
       "    </tr>\n",
       "    <tr>\n",
       "      <th>50%</th>\n",
       "      <td>446.000000</td>\n",
       "      <td>0.000000</td>\n",
       "      <td>3.000000</td>\n",
       "      <td>28.000000</td>\n",
       "      <td>0.000000</td>\n",
       "      <td>0.000000</td>\n",
       "      <td>14.454200</td>\n",
       "    </tr>\n",
       "    <tr>\n",
       "      <th>75%</th>\n",
       "      <td>668.500000</td>\n",
       "      <td>1.000000</td>\n",
       "      <td>3.000000</td>\n",
       "      <td>38.000000</td>\n",
       "      <td>1.000000</td>\n",
       "      <td>0.000000</td>\n",
       "      <td>31.000000</td>\n",
       "    </tr>\n",
       "    <tr>\n",
       "      <th>max</th>\n",
       "      <td>891.000000</td>\n",
       "      <td>1.000000</td>\n",
       "      <td>3.000000</td>\n",
       "      <td>80.000000</td>\n",
       "      <td>8.000000</td>\n",
       "      <td>6.000000</td>\n",
       "      <td>512.329200</td>\n",
       "    </tr>\n",
       "  </tbody>\n",
       "</table>\n",
       "</div>"
      ],
      "text/plain": [
       "       PassengerId    Survived      Pclass         Age       SibSp  \\\n",
       "count   891.000000  891.000000  891.000000  714.000000  891.000000   \n",
       "mean    446.000000    0.383838    2.308642   29.699118    0.523008   \n",
       "std     257.353842    0.486592    0.836071   14.526497    1.102743   \n",
       "min       1.000000    0.000000    1.000000    0.420000    0.000000   \n",
       "25%     223.500000    0.000000    2.000000   20.125000    0.000000   \n",
       "50%     446.000000    0.000000    3.000000   28.000000    0.000000   \n",
       "75%     668.500000    1.000000    3.000000   38.000000    1.000000   \n",
       "max     891.000000    1.000000    3.000000   80.000000    8.000000   \n",
       "\n",
       "            Parch        Fare  \n",
       "count  891.000000  891.000000  \n",
       "mean     0.381594   32.204208  \n",
       "std      0.806057   49.693429  \n",
       "min      0.000000    0.000000  \n",
       "25%      0.000000    7.910400  \n",
       "50%      0.000000   14.454200  \n",
       "75%      0.000000   31.000000  \n",
       "max      6.000000  512.329200  "
      ]
     },
     "execution_count": 103,
     "metadata": {},
     "output_type": "execute_result"
    }
   ],
   "source": [
    "df.describe()"
   ]
  },
  {
   "cell_type": "markdown",
   "id": "fb899cfd",
   "metadata": {},
   "source": [
    "Observamos la información estadística de las variables. "
   ]
  },
  {
   "cell_type": "markdown",
   "id": "d4c168cd",
   "metadata": {},
   "source": [
    "# 2. Selección de datos de interés"
   ]
  },
  {
   "cell_type": "markdown",
   "id": "d209b728",
   "metadata": {},
   "source": [
    "### `PassengerId`\n",
    "\n",
    "Identificador del pasajero. Es una variable numerica correlativa, que no tiene ningún valor predictivo. No la incluiremos en nuestro modelo."
   ]
  },
  {
   "cell_type": "code",
   "execution_count": 104,
   "id": "3e6237d7",
   "metadata": {},
   "outputs": [],
   "source": [
    "df.drop(['PassengerId'], axis=1,  inplace=True)"
   ]
  },
  {
   "cell_type": "markdown",
   "id": "822e9699",
   "metadata": {},
   "source": [
    "### `Ticket`\n",
    "\n",
    "Número del tiquet del pasajero. Es alfanumerica y no la vamos a considerar para el modelo."
   ]
  },
  {
   "cell_type": "code",
   "execution_count": 105,
   "id": "2ef49003",
   "metadata": {},
   "outputs": [],
   "source": [
    "df.drop(['Ticket'], axis=1, inplace=True)"
   ]
  },
  {
   "cell_type": "markdown",
   "id": "1a519873",
   "metadata": {},
   "source": [
    "### `Cabin`\n",
    "\n",
    "Número de la cabina del pasajero. Es una variable de texto, que indica en qué cabina estaba el pasajero. \n",
    "No la consideraremos para nuestro análisis."
   ]
  },
  {
   "cell_type": "code",
   "execution_count": 106,
   "id": "b80a0bbe",
   "metadata": {},
   "outputs": [],
   "source": [
    "df.drop(['Cabin'], axis=1, inplace=True)"
   ]
  },
  {
   "cell_type": "markdown",
   "id": "0080c71c",
   "metadata": {},
   "source": [
    "### `Name`\n",
    "\n",
    "Nombre del pasajero. Es alfanumerica y no la vamos a considerar para el modelo."
   ]
  },
  {
   "cell_type": "code",
   "execution_count": 107,
   "id": "1c281d08",
   "metadata": {},
   "outputs": [],
   "source": [
    "df.drop(['Name'], axis=1, inplace=True)"
   ]
  },
  {
   "cell_type": "markdown",
   "id": "a94b1d2c",
   "metadata": {},
   "source": [
    "# 3. Limpieza de los datos\n",
    "\n",
    "En la limpieza de los datos nos aseguramos de tratar los valore nulos y outliers."
   ]
  },
  {
   "cell_type": "code",
   "execution_count": 108,
   "id": "54beeafc",
   "metadata": {},
   "outputs": [
    {
     "data": {
      "text/plain": [
       "Survived      0\n",
       "Pclass        0\n",
       "Sex           0\n",
       "Age         177\n",
       "SibSp         0\n",
       "Parch         0\n",
       "Fare          0\n",
       "Embarked      2\n",
       "dtype: int64"
      ]
     },
     "execution_count": 108,
     "metadata": {},
     "output_type": "execute_result"
    }
   ],
   "source": [
    "df.isnull().sum()"
   ]
  },
  {
   "cell_type": "markdown",
   "id": "fceeb028",
   "metadata": {},
   "source": [
    "Vemos que **Age** tiene 177 registros y **Embarked** tiene 2 registros vacios o nulos."
   ]
  },
  {
   "cell_type": "markdown",
   "id": "87ea7ffb",
   "metadata": {},
   "source": [
    "## Variables categóricas"
   ]
  },
  {
   "cell_type": "markdown",
   "id": "edf7d8c0",
   "metadata": {},
   "source": [
    "Las variables categóricas del conjunto de datos son: **Survived**, **Pclass**, **Sex** y **Embarked**."
   ]
  },
  {
   "cell_type": "code",
   "execution_count": 109,
   "id": "296aa33b",
   "metadata": {},
   "outputs": [
    {
     "data": {
      "image/png": "[encoded data removed]",
      "text/plain": [
       "<Figure size 1152x288 with 4 Axes>"
      ]
     },
     "metadata": {
      "needs_background": "light"
     },
     "output_type": "display_data"
    }
   ],
   "source": [
    "#Gráficos de barras de las variables categóricas.\n",
    "fig, axes = plt.subplots(1, 4, figsize=(16,4))\n",
    "fig.tight_layout()\n",
    "fig.subplots_adjust(hspace=0.5)\n",
    "\n",
    "ax1 = df[\"Pclass\"].value_counts().plot(ax=axes[0], kind='bar', rot=0).set_title('Ticket class', size=16)\n",
    "ax2 = df[\"Sex\"].value_counts().plot(ax=axes[1], kind='bar', rot=0).set_title('Sex', size=16)\n",
    "ax3 = df[\"Survived\"].value_counts().plot(ax=axes[2], kind='bar', rot=0).set_title('Survived', size=16)\n",
    "ax4 = df[\"Embarked\"].value_counts().plot(ax=axes[3], kind='bar', rot=0).set_title('Embarked', size=16)"
   ]
  },
  {
   "cell_type": "markdown",
   "id": "7f32bdd8",
   "metadata": {},
   "source": []
  },
  {
   "cell_type": "markdown",
   "id": "dca02465",
   "metadata": {},
   "source": [
    "### Imputación de variables categóricas"
   ]
  },
  {
   "cell_type": "markdown",
   "id": "21358884",
   "metadata": {},
   "source": [
    "Como sabemos, la variable Embarked tiene 2 valores nulos, por lo que decimos imputar estos registros con la moda de la variable. "
   ]
  },
  {
   "cell_type": "code",
   "execution_count": 110,
   "id": "634d581d",
   "metadata": {},
   "outputs": [
    {
     "name": "stdout",
     "output_type": "stream",
     "text": [
      "Numero actualizado de nulos en la variable Embarked: 0\n"
     ]
    }
   ],
   "source": [
    "df['Embarked'].fillna(df['Embarked'].mode()[0], inplace=True)\n",
    "\n",
    "print(\"Numero actualizado de nulos en la variable Embarked: \" + str(df['Embarked'].isnull().sum()))"
   ]
  },
  {
   "cell_type": "markdown",
   "id": "477a6722",
   "metadata": {},
   "source": [
    "## Variables numéricas"
   ]
  },
  {
   "cell_type": "markdown",
   "id": "e1c70df7",
   "metadata": {},
   "source": [
    "Las variables númericas del conjunto de datos son: **Age**, **SibSp**, **Parch** y **Fare**."
   ]
  },
  {
   "cell_type": "code",
   "execution_count": 111,
   "id": "8bf534b0",
   "metadata": {},
   "outputs": [
    {
     "data": {
      "image/png": "[encoded data removed]",
      "text/plain": [
       "<Figure size 1152x504 with 4 Axes>"
      ]
     },
     "metadata": {
      "needs_background": "light"
     },
     "output_type": "display_data"
    }
   ],
   "source": [
    "#Histogramas de las variables numéricas\n",
    "\n",
    "fig, axes = plt.subplots(2, 2, figsize=(16,7))\n",
    "fig.tight_layout()\n",
    "\n",
    "ax1 = df[\"Age\"].plot.hist(ax=axes[0,0]).set_title('Age', size=16)\n",
    "ax2 = df[\"SibSp\"].plot.hist(ax=axes[0,1]).set_title('SibSp', size=16)\n",
    "ax3 = df[\"Parch\"].plot.hist(ax=axes[1,0]).set_title('Parch', size=16)\n",
    "ax4 = df[\"Fare\"].plot.hist(ax=axes[1,1]).set_title('Ticket Fare', size=16)"
   ]
  },
  {
   "cell_type": "markdown",
   "id": "bd9cb1b4",
   "metadata": {},
   "source": [
    "### Boxplots de variables numéricas"
   ]
  },
  {
   "cell_type": "code",
   "execution_count": 112,
   "id": "6c1a908e",
   "metadata": {},
   "outputs": [
    {
     "data": {
      "image/png": "[encoded data removed]",
      "text/plain": [
       "<Figure size 432x288 with 1 Axes>"
      ]
     },
     "metadata": {
      "needs_background": "light"
     },
     "output_type": "display_data"
    }
   ],
   "source": [
    "#Boxplot de la variable Age\n",
    "age=df['Age']\n",
    "\n",
    "sns.boxplot(data=age)\n",
    "plt.xticks(rotation=90)\n",
    "plt.ylabel('Valor')\n",
    "plt.show()"
   ]
  },
  {
   "cell_type": "code",
   "execution_count": 113,
   "id": "d98a4c05",
   "metadata": {},
   "outputs": [
    {
     "data": {
      "text/plain": [
       "[Text(1, 0, 'SibSp'), Text(2, 0, 'Parch')]"
      ]
     },
     "execution_count": 113,
     "metadata": {},
     "output_type": "execute_result"
    },
    {
     "data": {
      "image/png": "[encoded data removed]",
      "text/plain": [
       "<Figure size 720x504 with 1 Axes>"
      ]
     },
     "metadata": {
      "needs_background": "light"
     },
     "output_type": "display_data"
    }
   ],
   "source": [
    "#Boxplot de las variables SibSp y Parch\n",
    "fig, ax = plt.subplots(figsize=(10,7))\n",
    "\n",
    "ax.boxplot(df[[\"SibSp\", \"Parch\"]])\n",
    "\n",
    "labels = [\"SibSp\", \"Parch\"]\n",
    "ax.set_xticklabels(labels, size=16)"
   ]
  },
  {
   "cell_type": "code",
   "execution_count": 114,
   "id": "96a4f916",
   "metadata": {},
   "outputs": [
    {
     "data": {
      "image/png": "[encoded data removed]",
      "text/plain": [
       "<Figure size 432x288 with 1 Axes>"
      ]
     },
     "metadata": {
      "needs_background": "light"
     },
     "output_type": "display_data"
    }
   ],
   "source": [
    "#Boxplot de la variable Fare\n",
    "\n",
    "fare=df['Fare']\n",
    "\n",
    "sns.boxplot(data=fare)\n",
    "plt.xticks(rotation=90)\n",
    "plt.ylabel('Valor')\n",
    "plt.show()"
   ]
  },
  {
   "cell_type": "markdown",
   "id": "af8049d3",
   "metadata": {},
   "source": [
    "### Información sobre outliers"
   ]
  },
  {
   "cell_type": "code",
   "execution_count": 115,
   "id": "1208cc8a",
   "metadata": {},
   "outputs": [],
   "source": [
    "#Creamos una función que obtenga los outliers de la variables\n",
    "def obtener_outlier_IQR(df):\n",
    "    Q1=df.quantile(0.25)\n",
    "    Q3=df.quantile(0.75)\n",
    "    IQR=Q3-Q1\n",
    "    df_final=df[((df<(Q1-1.5*IQR)) | (df>(Q3+1.5*IQR)))] \n",
    "    return df_final"
   ]
  },
  {
   "cell_type": "code",
   "execution_count": 116,
   "id": "ab36c25d",
   "metadata": {},
   "outputs": [
    {
     "name": "stdout",
     "output_type": "stream",
     "text": [
      "El numero de outliers de la vairable Age es 11\n",
      "El valor minimo de entre los outliers es 65.0 y el valor maximo es 80.0\n",
      " \n",
      "El numero de outliers de la vairable SibSp es 46\n",
      "El valor minimo de entre los outliers es 3 y el valor maximo es 8\n",
      " \n",
      "El numero de outliers de la vairable Parch es 213\n",
      "El valor minimo de entre los outliers es 1 y el valor maximo es 6\n",
      " \n",
      "El numero de outliers de la vairable Fare es 116\n",
      "El valor minimo de entre los outliers es 66.6 y el valor maximo es 512.3292\n",
      " \n"
     ]
    }
   ],
   "source": [
    "for var in [\"Age\", \"SibSp\", \"Parch\", \"Fare\"]:\n",
    "    variable=df[var]\n",
    "    df_outliers = obtener_outlier_IQR(variable)\n",
    "\n",
    "    print(\"El numero de outliers de la vairable {} es {}\".format(var, len(df_outliers)))\n",
    "    print(\"El valor minimo de entre los outliers es {} y el valor maximo es {}\".format(df_outliers.min(), df_outliers.max()))\n",
    "    print(\" \")"
   ]
  },
  {
   "cell_type": "markdown",
   "id": "538cdcac",
   "metadata": {},
   "source": [
    "Los outliers de todas las variables son válidos, por lo que no tomamos ninguna acción con respecto a los outliers. En el caso de la variable Age una persona puede tener 80 años. En la variable SibSp, el numero de hermanos o parejas de una persona puede ser 8. En el caso de Parch, el numero de padres o hijos que un pasajero tiene si puede ser 6. En la variable Fare, el valor maximo outlier es 512 lo cual si es posible, ya que el ticket mas costoso era £870 segun https://www.cruisemummy.co.uk/titanic-ticket-prices/ "
   ]
  },
  {
   "cell_type": "markdown",
   "id": "d689f848",
   "metadata": {},
   "source": [
    "### Imputación de valores nulos de variables numéricas"
   ]
  },
  {
   "cell_type": "markdown",
   "id": "d2ae0459",
   "metadata": {},
   "source": [
    "Sin embargo, sabemos que la variable Age tiene valores nulos, que son 177 de los 891 registros. Debido a que la distribución de la variable es sesgada, utilizamos el valor de la mediana para imputar los valores nulos."
   ]
  },
  {
   "cell_type": "code",
   "execution_count": 117,
   "id": "12b745f4",
   "metadata": {},
   "outputs": [
    {
     "name": "stdout",
     "output_type": "stream",
     "text": [
      "Numero actualizado de nulos en la variable Age: 0\n"
     ]
    }
   ],
   "source": [
    "df['Age'].fillna(df['Age'].median(), inplace=True)\n",
    "\n",
    "print(\"Numero actualizado de nulos en la variable Age: \" + str(df['Age'].isnull().sum()))"
   ]
  },
  {
   "cell_type": "code",
   "execution_count": 118,
   "id": "143c75a8",
   "metadata": {
    "scrolled": true
   },
   "outputs": [
    {
     "data": {
      "text/plain": [
       "Survived    0\n",
       "Pclass      0\n",
       "Sex         0\n",
       "Age         0\n",
       "SibSp       0\n",
       "Parch       0\n",
       "Fare        0\n",
       "Embarked    0\n",
       "dtype: int64"
      ]
     },
     "execution_count": 118,
     "metadata": {},
     "output_type": "execute_result"
    }
   ],
   "source": [
    "df.isnull().sum()"
   ]
  },
  {
   "cell_type": "markdown",
   "id": "79057c48",
   "metadata": {},
   "source": [
    "Las variables de interés ahora ya no tienen valores nulos y dejamos los outliers ya que determinamos que son válidos. "
   ]
  },
  {
   "cell_type": "markdown",
   "id": "a2bcd060",
   "metadata": {},
   "source": [
    "# 4. Análisis de los datos"
   ]
  },
  {
   "cell_type": "code",
   "execution_count": 119,
   "id": "2ca642ef",
   "metadata": {},
   "outputs": [],
   "source": [
    "#Defino una funcion para graficar las variables con respecto a la variable target: Survived\n",
    "\n",
    "def graficar_variable(data, variable, target):\n",
    "    ax = data.groupby([variable, target]).size().unstack(level = 1).plot(kind = 'bar', stacked=True, figsize = (12,7))\n",
    "    total = len(data)\n",
    "    for p in ax.patches:\n",
    "        percentage = '{:.1f}%'.format(100 * p.get_height()/total)\n",
    "        x = p.get_x() + p.get_width() + 0.05\n",
    "        y = p.get_y() + p.get_height()/2\n",
    "        ax.annotate(percentage, (x, y))"
   ]
  },
  {
   "cell_type": "code",
   "execution_count": 120,
   "id": "0a97d127",
   "metadata": {},
   "outputs": [],
   "source": [
    "#Defino una funcion para mostrar en forma de tabla las categorias dentro de cada columna y el porcentaje al que\n",
    "#corresponde cada una con respecto al total de datos\n",
    "\n",
    "def crear_tabla(dataset,variable):\n",
    "    tabla = df.groupby([variable,'Survived']).size().unstack(level = 1) \n",
    "    tabla.columns = ['No_sobrevivio', 'Sobrevivio']\n",
    "    tabla['Porcentaje_dataset'] = tabla.apply(lambda x: (x.Sobrevivio + x.No_sobrevivio)*100/len(df), axis = 1)\n",
    "    tabla.sort_values(by = ['Porcentaje_dataset'],  ascending = False, inplace = True)\n",
    "    return tabla"
   ]
  },
  {
   "cell_type": "markdown",
   "id": "97424d56",
   "metadata": {},
   "source": [
    "### `Survived`\n",
    "\n",
    "Indica si el pasajero sobrevivió (`1`) o no (`0`).\n",
    "Será nuestra variable a predecir. es decir la variable dependiente.\n",
    "Vemos que hay alrededor de un 38% de pasajeros que sobrevivieron."
   ]
  },
  {
   "cell_type": "code",
   "execution_count": 121,
   "id": "0ced5bf4",
   "metadata": {},
   "outputs": [
    {
     "data": {
      "image/png": "[encoded data removed]",
      "text/plain": [
       "<Figure size 864x504 with 1 Axes>"
      ]
     },
     "metadata": {
      "needs_background": "light"
     },
     "output_type": "display_data"
    }
   ],
   "source": [
    "ax = df.groupby(['Survived']).size().plot(kind = 'bar', stacked=True, figsize = (12,7))\n",
    "total = len(df)\n",
    "for p in ax.patches:\n",
    "    percentage = '{:.1f}%'.format(100 * p.get_height()/total)\n",
    "    x = p.get_x() + p.get_width() + 0.05\n",
    "    y = p.get_y() + p.get_height()/2\n",
    "    ax.annotate(percentage, (x, y), fontsize = 12)\n",
    "    \n",
    "plt.title('Variable target: Survived', fontsize = 15)\n",
    "plt.show()"
   ]
  },
  {
   "cell_type": "markdown",
   "id": "189483c0",
   "metadata": {},
   "source": [
    "### `Pclass`\n",
    "\n",
    "Clase del tiquet. Es una variable categórica, con 3 valores diferentes correspondientes a la primera, la segunda y la tercera clase. \n",
    "Vemos que está correlacionada con la supervivencia: como más alta sea la clase, más supervivientes hay."
   ]
  },
  {
   "cell_type": "code",
   "execution_count": 122,
   "id": "1148e4e7",
   "metadata": {},
   "outputs": [
    {
     "data": {
      "image/png": "[encoded data removed]",
      "text/plain": [
       "<Figure size 864x504 with 1 Axes>"
      ]
     },
     "metadata": {
      "needs_background": "light"
     },
     "output_type": "display_data"
    }
   ],
   "source": [
    "graficar_variable(df,df['Pclass'], df['Survived'])\n",
    "plt.title('Sobrevivientes según clase', fontsize = 15)\n",
    "plt.show()"
   ]
  },
  {
   "cell_type": "code",
   "execution_count": 123,
   "id": "178cea69",
   "metadata": {
    "scrolled": true
   },
   "outputs": [
    {
     "data": {
      "text/html": [
       "<div>\n",
       "<style scoped>\n",
       "    .dataframe tbody tr th:only-of-type {\n",
       "        vertical-align: middle;\n",
       "    }\n",
       "\n",
       "    .dataframe tbody tr th {\n",
       "        vertical-align: top;\n",
       "    }\n",
       "\n",
       "    .dataframe thead th {\n",
       "        text-align: right;\n",
       "    }\n",
       "</style>\n",
       "<table border=\"1\" class=\"dataframe\">\n",
       "  <thead>\n",
       "    <tr style=\"text-align: right;\">\n",
       "      <th></th>\n",
       "      <th>No_sobrevivio</th>\n",
       "      <th>Sobrevivio</th>\n",
       "      <th>Porcentaje_dataset</th>\n",
       "    </tr>\n",
       "    <tr>\n",
       "      <th>Pclass</th>\n",
       "      <th></th>\n",
       "      <th></th>\n",
       "      <th></th>\n",
       "    </tr>\n",
       "  </thead>\n",
       "  <tbody>\n",
       "    <tr>\n",
       "      <th>3</th>\n",
       "      <td>372</td>\n",
       "      <td>119</td>\n",
       "      <td>55.106622</td>\n",
       "    </tr>\n",
       "    <tr>\n",
       "      <th>1</th>\n",
       "      <td>80</td>\n",
       "      <td>136</td>\n",
       "      <td>24.242424</td>\n",
       "    </tr>\n",
       "    <tr>\n",
       "      <th>2</th>\n",
       "      <td>97</td>\n",
       "      <td>87</td>\n",
       "      <td>20.650954</td>\n",
       "    </tr>\n",
       "  </tbody>\n",
       "</table>\n",
       "</div>"
      ],
      "text/plain": [
       "        No_sobrevivio  Sobrevivio  Porcentaje_dataset\n",
       "Pclass                                               \n",
       "3                 372         119           55.106622\n",
       "1                  80         136           24.242424\n",
       "2                  97          87           20.650954"
      ]
     },
     "execution_count": 123,
     "metadata": {},
     "output_type": "execute_result"
    }
   ],
   "source": [
    "crear_tabla(df,df['Pclass'])"
   ]
  },
  {
   "cell_type": "code",
   "execution_count": 124,
   "id": "e66bd5fa",
   "metadata": {},
   "outputs": [
    {
     "data": {
      "text/html": [
       "<div>\n",
       "<style scoped>\n",
       "    .dataframe tbody tr th:only-of-type {\n",
       "        vertical-align: middle;\n",
       "    }\n",
       "\n",
       "    .dataframe tbody tr th {\n",
       "        vertical-align: top;\n",
       "    }\n",
       "\n",
       "    .dataframe thead th {\n",
       "        text-align: right;\n",
       "    }\n",
       "</style>\n",
       "<table border=\"1\" class=\"dataframe\">\n",
       "  <thead>\n",
       "    <tr style=\"text-align: right;\">\n",
       "      <th></th>\n",
       "      <th>Pclass</th>\n",
       "      <th>Survived</th>\n",
       "    </tr>\n",
       "  </thead>\n",
       "  <tbody>\n",
       "    <tr>\n",
       "      <th>0</th>\n",
       "      <td>1</td>\n",
       "      <td>0.629630</td>\n",
       "    </tr>\n",
       "    <tr>\n",
       "      <th>1</th>\n",
       "      <td>2</td>\n",
       "      <td>0.472826</td>\n",
       "    </tr>\n",
       "    <tr>\n",
       "      <th>2</th>\n",
       "      <td>3</td>\n",
       "      <td>0.242363</td>\n",
       "    </tr>\n",
       "  </tbody>\n",
       "</table>\n",
       "</div>"
      ],
      "text/plain": [
       "   Pclass  Survived\n",
       "0       1  0.629630\n",
       "1       2  0.472826\n",
       "2       3  0.242363"
      ]
     },
     "execution_count": 124,
     "metadata": {},
     "output_type": "execute_result"
    }
   ],
   "source": [
    "df[['Pclass', 'Survived']].groupby(['Pclass'], as_index=False).mean()"
   ]
  },
  {
   "cell_type": "markdown",
   "id": "e5f515d8",
   "metadata": {},
   "source": [
    "Teniendo en cuenta el gráfico y las tablas anteriores vemos que, los pasajeros de 3ra clase representan el 55% del dataset, seguido de los de primera clase que representan el 24,24% y por último la clase 2 que son el 20% restante. \n",
    "Dentro de cada grupo, vemos que el mayor porcentaje de sobrevivientes se da en el grupo de primera clase: un 63% de estos pasajeros sobrevivieron, mientras que sólo el 24% de los pasajeros de clase 3 lo hicieron. "
   ]
  },
  {
   "cell_type": "markdown",
   "id": "2d567cf9",
   "metadata": {},
   "source": [
    "### `Sex`\n",
    "\n",
    "Sexo del pasajero. Es una variable categórica con dos valores, `male` y `female`. \n",
    "La convertiremos a binaria para nuestro análisis.\n",
    "Vemos que el 74% de mujeres sobrevivio, vs un 19% de hombres, por lo tanto, el sexo es una variable importante para determinar si un pasajero sobrevivio o no. "
   ]
  },
  {
   "cell_type": "code",
   "execution_count": 125,
   "id": "fdf55dee",
   "metadata": {
    "scrolled": true
   },
   "outputs": [
    {
     "data": {
      "image/png": "[encoded data removed]",
      "text/plain": [
       "<Figure size 864x504 with 1 Axes>"
      ]
     },
     "metadata": {
      "needs_background": "light"
     },
     "output_type": "display_data"
    }
   ],
   "source": [
    "graficar_variable(df,df['Sex'], df['Survived'])\n",
    "plt.title('Sobrevivientes según sexo', fontsize = 15)\n",
    "plt.show()"
   ]
  },
  {
   "cell_type": "code",
   "execution_count": 126,
   "id": "5f1ec169",
   "metadata": {},
   "outputs": [
    {
     "data": {
      "text/html": [
       "<div>\n",
       "<style scoped>\n",
       "    .dataframe tbody tr th:only-of-type {\n",
       "        vertical-align: middle;\n",
       "    }\n",
       "\n",
       "    .dataframe tbody tr th {\n",
       "        vertical-align: top;\n",
       "    }\n",
       "\n",
       "    .dataframe thead th {\n",
       "        text-align: right;\n",
       "    }\n",
       "</style>\n",
       "<table border=\"1\" class=\"dataframe\">\n",
       "  <thead>\n",
       "    <tr style=\"text-align: right;\">\n",
       "      <th></th>\n",
       "      <th>No_sobrevivio</th>\n",
       "      <th>Sobrevivio</th>\n",
       "      <th>Porcentaje_dataset</th>\n",
       "    </tr>\n",
       "    <tr>\n",
       "      <th>Sex</th>\n",
       "      <th></th>\n",
       "      <th></th>\n",
       "      <th></th>\n",
       "    </tr>\n",
       "  </thead>\n",
       "  <tbody>\n",
       "    <tr>\n",
       "      <th>male</th>\n",
       "      <td>468</td>\n",
       "      <td>109</td>\n",
       "      <td>64.758698</td>\n",
       "    </tr>\n",
       "    <tr>\n",
       "      <th>female</th>\n",
       "      <td>81</td>\n",
       "      <td>233</td>\n",
       "      <td>35.241302</td>\n",
       "    </tr>\n",
       "  </tbody>\n",
       "</table>\n",
       "</div>"
      ],
      "text/plain": [
       "        No_sobrevivio  Sobrevivio  Porcentaje_dataset\n",
       "Sex                                                  \n",
       "male              468         109           64.758698\n",
       "female             81         233           35.241302"
      ]
     },
     "execution_count": 126,
     "metadata": {},
     "output_type": "execute_result"
    }
   ],
   "source": [
    "crear_tabla(df,df['Sex'])"
   ]
  },
  {
   "cell_type": "code",
   "execution_count": 127,
   "id": "11f51c4f",
   "metadata": {},
   "outputs": [
    {
     "data": {
      "text/html": [
       "<div>\n",
       "<style scoped>\n",
       "    .dataframe tbody tr th:only-of-type {\n",
       "        vertical-align: middle;\n",
       "    }\n",
       "\n",
       "    .dataframe tbody tr th {\n",
       "        vertical-align: top;\n",
       "    }\n",
       "\n",
       "    .dataframe thead th {\n",
       "        text-align: right;\n",
       "    }\n",
       "</style>\n",
       "<table border=\"1\" class=\"dataframe\">\n",
       "  <thead>\n",
       "    <tr style=\"text-align: right;\">\n",
       "      <th></th>\n",
       "      <th>Sex</th>\n",
       "      <th>Survived</th>\n",
       "    </tr>\n",
       "  </thead>\n",
       "  <tbody>\n",
       "    <tr>\n",
       "      <th>0</th>\n",
       "      <td>female</td>\n",
       "      <td>0.742038</td>\n",
       "    </tr>\n",
       "    <tr>\n",
       "      <th>1</th>\n",
       "      <td>male</td>\n",
       "      <td>0.188908</td>\n",
       "    </tr>\n",
       "  </tbody>\n",
       "</table>\n",
       "</div>"
      ],
      "text/plain": [
       "      Sex  Survived\n",
       "0  female  0.742038\n",
       "1    male  0.188908"
      ]
     },
     "execution_count": 127,
     "metadata": {},
     "output_type": "execute_result"
    }
   ],
   "source": [
    "df[[\"Sex\", \"Survived\"]].groupby(['Sex'], as_index=False).mean()"
   ]
  },
  {
   "cell_type": "markdown",
   "id": "fd5892aa",
   "metadata": {},
   "source": [
    "Vemos que el 65% del dataset son paseros de sexo masculino, de los cuales sólo el 19% sobrevivió.\n",
    "El 35% restante son mujeres, y el porcentaje de sobrevivientes dentro de este grupo es del 74%.\n",
    "\n",
    "Si tomamos toda la población, sobrevivieron un 26,2% de mujeres y un 12,2% de hombres. \n",
    "\n",
    "Convertimos la variable en numérica:"
   ]
  },
  {
   "cell_type": "code",
   "execution_count": 128,
   "id": "63dfe99f",
   "metadata": {},
   "outputs": [],
   "source": [
    "df['Sex'] = df['Sex'].replace(['male'],1)\n",
    "df['Sex'] = df['Sex'].replace(['female'],0)"
   ]
  },
  {
   "cell_type": "markdown",
   "id": "838915e0",
   "metadata": {},
   "source": [
    "### `SibSp`\n",
    "\n",
    "Número de hermanos o cónyugues del pasajero dentro del Titanic. Es una variable numérica.\n",
    "Podemos ver que aquellos que viajaban con 1 hermano o cónyugue fueron el grupo que mas sobrevivientes tuvo. "
   ]
  },
  {
   "cell_type": "code",
   "execution_count": 129,
   "id": "8f1bf282",
   "metadata": {
    "scrolled": true
   },
   "outputs": [
    {
     "data": {
      "image/png": "[encoded data removed]",
      "text/plain": [
       "<Figure size 864x504 with 1 Axes>"
      ]
     },
     "metadata": {
      "needs_background": "light"
     },
     "output_type": "display_data"
    }
   ],
   "source": [
    "graficar_variable(df,df['SibSp'], df['Survived'])\n",
    "plt.title('Sobrevivientes según cantidad de hermanos/cónyugues', fontsize = 15)\n",
    "plt.show()"
   ]
  },
  {
   "cell_type": "code",
   "execution_count": 130,
   "id": "6f7418b7",
   "metadata": {},
   "outputs": [
    {
     "data": {
      "text/html": [
       "<div>\n",
       "<style scoped>\n",
       "    .dataframe tbody tr th:only-of-type {\n",
       "        vertical-align: middle;\n",
       "    }\n",
       "\n",
       "    .dataframe tbody tr th {\n",
       "        vertical-align: top;\n",
       "    }\n",
       "\n",
       "    .dataframe thead th {\n",
       "        text-align: right;\n",
       "    }\n",
       "</style>\n",
       "<table border=\"1\" class=\"dataframe\">\n",
       "  <thead>\n",
       "    <tr style=\"text-align: right;\">\n",
       "      <th></th>\n",
       "      <th>No_sobrevivio</th>\n",
       "      <th>Sobrevivio</th>\n",
       "      <th>Porcentaje_dataset</th>\n",
       "    </tr>\n",
       "    <tr>\n",
       "      <th>SibSp</th>\n",
       "      <th></th>\n",
       "      <th></th>\n",
       "      <th></th>\n",
       "    </tr>\n",
       "  </thead>\n",
       "  <tbody>\n",
       "    <tr>\n",
       "      <th>0</th>\n",
       "      <td>398.0</td>\n",
       "      <td>210.0</td>\n",
       "      <td>68.237935</td>\n",
       "    </tr>\n",
       "    <tr>\n",
       "      <th>1</th>\n",
       "      <td>97.0</td>\n",
       "      <td>112.0</td>\n",
       "      <td>23.456790</td>\n",
       "    </tr>\n",
       "    <tr>\n",
       "      <th>2</th>\n",
       "      <td>15.0</td>\n",
       "      <td>13.0</td>\n",
       "      <td>3.142536</td>\n",
       "    </tr>\n",
       "    <tr>\n",
       "      <th>4</th>\n",
       "      <td>15.0</td>\n",
       "      <td>3.0</td>\n",
       "      <td>2.020202</td>\n",
       "    </tr>\n",
       "    <tr>\n",
       "      <th>3</th>\n",
       "      <td>12.0</td>\n",
       "      <td>4.0</td>\n",
       "      <td>1.795735</td>\n",
       "    </tr>\n",
       "    <tr>\n",
       "      <th>5</th>\n",
       "      <td>5.0</td>\n",
       "      <td>NaN</td>\n",
       "      <td>NaN</td>\n",
       "    </tr>\n",
       "    <tr>\n",
       "      <th>8</th>\n",
       "      <td>7.0</td>\n",
       "      <td>NaN</td>\n",
       "      <td>NaN</td>\n",
       "    </tr>\n",
       "  </tbody>\n",
       "</table>\n",
       "</div>"
      ],
      "text/plain": [
       "       No_sobrevivio  Sobrevivio  Porcentaje_dataset\n",
       "SibSp                                               \n",
       "0              398.0       210.0           68.237935\n",
       "1               97.0       112.0           23.456790\n",
       "2               15.0        13.0            3.142536\n",
       "4               15.0         3.0            2.020202\n",
       "3               12.0         4.0            1.795735\n",
       "5                5.0         NaN                 NaN\n",
       "8                7.0         NaN                 NaN"
      ]
     },
     "execution_count": 130,
     "metadata": {},
     "output_type": "execute_result"
    }
   ],
   "source": [
    "crear_tabla(df,df['SibSp'])"
   ]
  },
  {
   "cell_type": "code",
   "execution_count": 131,
   "id": "1db09e09",
   "metadata": {
    "scrolled": false
   },
   "outputs": [
    {
     "data": {
      "text/html": [
       "<div>\n",
       "<style scoped>\n",
       "    .dataframe tbody tr th:only-of-type {\n",
       "        vertical-align: middle;\n",
       "    }\n",
       "\n",
       "    .dataframe tbody tr th {\n",
       "        vertical-align: top;\n",
       "    }\n",
       "\n",
       "    .dataframe thead th {\n",
       "        text-align: right;\n",
       "    }\n",
       "</style>\n",
       "<table border=\"1\" class=\"dataframe\">\n",
       "  <thead>\n",
       "    <tr style=\"text-align: right;\">\n",
       "      <th></th>\n",
       "      <th>SibSp</th>\n",
       "      <th>Survived</th>\n",
       "    </tr>\n",
       "  </thead>\n",
       "  <tbody>\n",
       "    <tr>\n",
       "      <th>0</th>\n",
       "      <td>0</td>\n",
       "      <td>0.345395</td>\n",
       "    </tr>\n",
       "    <tr>\n",
       "      <th>1</th>\n",
       "      <td>1</td>\n",
       "      <td>0.535885</td>\n",
       "    </tr>\n",
       "    <tr>\n",
       "      <th>2</th>\n",
       "      <td>2</td>\n",
       "      <td>0.464286</td>\n",
       "    </tr>\n",
       "    <tr>\n",
       "      <th>3</th>\n",
       "      <td>3</td>\n",
       "      <td>0.250000</td>\n",
       "    </tr>\n",
       "    <tr>\n",
       "      <th>4</th>\n",
       "      <td>4</td>\n",
       "      <td>0.166667</td>\n",
       "    </tr>\n",
       "    <tr>\n",
       "      <th>5</th>\n",
       "      <td>5</td>\n",
       "      <td>0.000000</td>\n",
       "    </tr>\n",
       "    <tr>\n",
       "      <th>6</th>\n",
       "      <td>8</td>\n",
       "      <td>0.000000</td>\n",
       "    </tr>\n",
       "  </tbody>\n",
       "</table>\n",
       "</div>"
      ],
      "text/plain": [
       "   SibSp  Survived\n",
       "0      0  0.345395\n",
       "1      1  0.535885\n",
       "2      2  0.464286\n",
       "3      3  0.250000\n",
       "4      4  0.166667\n",
       "5      5  0.000000\n",
       "6      8  0.000000"
      ]
     },
     "execution_count": 131,
     "metadata": {},
     "output_type": "execute_result"
    }
   ],
   "source": [
    "df[[\"SibSp\", \"Survived\"]].groupby(['SibSp'], as_index=False).mean()"
   ]
  },
  {
   "cell_type": "markdown",
   "id": "0df2783d",
   "metadata": {},
   "source": [
    "El 68% de los pasajeros no estaban acompañados ni por hermanos ni por sus cónyugues, luego hay un 23,4% que iban acompañados por unó solo de ellos, el resto de los grupos tienen porcentajes menor al 5% del total.\n",
    "Si analizamos los grupos por separado, de aquellos que iban con un hermano o cónyugue un 54% sobrevivió, siendo el grupo que le sigue en mayor porcentaje el que está formado por 2 hermanos/cónyugues, con un 46% de sobrevivientes.\n",
    "Si lo vemos a nivel general, tomando a todos los pasajeros, el 23,6% de los sobrevivientes fueron solos, y el 12.6% de sobrevivientes fue con un acompañante, los porcentajes de los siguientes grupos son menores al 2%."
   ]
  },
  {
   "cell_type": "markdown",
   "id": "674775c3",
   "metadata": {},
   "source": [
    "### `Parch`\n",
    "\n",
    "Número de padres e hijos del pasajero dentro del Titanic. Es una variable numérica.\n",
    "Aquellos que viajaban con tres padres o tres hijos, o una combinación de ellos que de tres, son los que más sobrevivieron."
   ]
  },
  {
   "cell_type": "code",
   "execution_count": 132,
   "id": "1c3795c8",
   "metadata": {},
   "outputs": [
    {
     "data": {
      "image/png": "[encoded data removed]",
      "text/plain": [
       "<Figure size 864x504 with 1 Axes>"
      ]
     },
     "metadata": {
      "needs_background": "light"
     },
     "output_type": "display_data"
    }
   ],
   "source": [
    "graficar_variable(df,df['Parch'], df['Survived'])\n",
    "plt.title('Sobrevivientes según cantidad de hijos/padres', fontsize = 15)\n",
    "plt.show()"
   ]
  },
  {
   "cell_type": "code",
   "execution_count": 133,
   "id": "c2a8f428",
   "metadata": {},
   "outputs": [
    {
     "data": {
      "text/html": [
       "<div>\n",
       "<style scoped>\n",
       "    .dataframe tbody tr th:only-of-type {\n",
       "        vertical-align: middle;\n",
       "    }\n",
       "\n",
       "    .dataframe tbody tr th {\n",
       "        vertical-align: top;\n",
       "    }\n",
       "\n",
       "    .dataframe thead th {\n",
       "        text-align: right;\n",
       "    }\n",
       "</style>\n",
       "<table border=\"1\" class=\"dataframe\">\n",
       "  <thead>\n",
       "    <tr style=\"text-align: right;\">\n",
       "      <th></th>\n",
       "      <th>No_sobrevivio</th>\n",
       "      <th>Sobrevivio</th>\n",
       "      <th>Porcentaje_dataset</th>\n",
       "    </tr>\n",
       "    <tr>\n",
       "      <th>Parch</th>\n",
       "      <th></th>\n",
       "      <th></th>\n",
       "      <th></th>\n",
       "    </tr>\n",
       "  </thead>\n",
       "  <tbody>\n",
       "    <tr>\n",
       "      <th>0</th>\n",
       "      <td>445.0</td>\n",
       "      <td>233.0</td>\n",
       "      <td>76.094276</td>\n",
       "    </tr>\n",
       "    <tr>\n",
       "      <th>1</th>\n",
       "      <td>53.0</td>\n",
       "      <td>65.0</td>\n",
       "      <td>13.243547</td>\n",
       "    </tr>\n",
       "    <tr>\n",
       "      <th>2</th>\n",
       "      <td>40.0</td>\n",
       "      <td>40.0</td>\n",
       "      <td>8.978676</td>\n",
       "    </tr>\n",
       "    <tr>\n",
       "      <th>3</th>\n",
       "      <td>2.0</td>\n",
       "      <td>3.0</td>\n",
       "      <td>0.561167</td>\n",
       "    </tr>\n",
       "    <tr>\n",
       "      <th>5</th>\n",
       "      <td>4.0</td>\n",
       "      <td>1.0</td>\n",
       "      <td>0.561167</td>\n",
       "    </tr>\n",
       "    <tr>\n",
       "      <th>4</th>\n",
       "      <td>4.0</td>\n",
       "      <td>NaN</td>\n",
       "      <td>NaN</td>\n",
       "    </tr>\n",
       "    <tr>\n",
       "      <th>6</th>\n",
       "      <td>1.0</td>\n",
       "      <td>NaN</td>\n",
       "      <td>NaN</td>\n",
       "    </tr>\n",
       "  </tbody>\n",
       "</table>\n",
       "</div>"
      ],
      "text/plain": [
       "       No_sobrevivio  Sobrevivio  Porcentaje_dataset\n",
       "Parch                                               \n",
       "0              445.0       233.0           76.094276\n",
       "1               53.0        65.0           13.243547\n",
       "2               40.0        40.0            8.978676\n",
       "3                2.0         3.0            0.561167\n",
       "5                4.0         1.0            0.561167\n",
       "4                4.0         NaN                 NaN\n",
       "6                1.0         NaN                 NaN"
      ]
     },
     "execution_count": 133,
     "metadata": {},
     "output_type": "execute_result"
    }
   ],
   "source": [
    "crear_tabla(df,df['Parch'])"
   ]
  },
  {
   "cell_type": "code",
   "execution_count": 134,
   "id": "07ff922e",
   "metadata": {},
   "outputs": [
    {
     "data": {
      "text/html": [
       "<div>\n",
       "<style scoped>\n",
       "    .dataframe tbody tr th:only-of-type {\n",
       "        vertical-align: middle;\n",
       "    }\n",
       "\n",
       "    .dataframe tbody tr th {\n",
       "        vertical-align: top;\n",
       "    }\n",
       "\n",
       "    .dataframe thead th {\n",
       "        text-align: right;\n",
       "    }\n",
       "</style>\n",
       "<table border=\"1\" class=\"dataframe\">\n",
       "  <thead>\n",
       "    <tr style=\"text-align: right;\">\n",
       "      <th></th>\n",
       "      <th>Parch</th>\n",
       "      <th>Survived</th>\n",
       "    </tr>\n",
       "  </thead>\n",
       "  <tbody>\n",
       "    <tr>\n",
       "      <th>0</th>\n",
       "      <td>0</td>\n",
       "      <td>0.343658</td>\n",
       "    </tr>\n",
       "    <tr>\n",
       "      <th>1</th>\n",
       "      <td>1</td>\n",
       "      <td>0.550847</td>\n",
       "    </tr>\n",
       "    <tr>\n",
       "      <th>2</th>\n",
       "      <td>2</td>\n",
       "      <td>0.500000</td>\n",
       "    </tr>\n",
       "    <tr>\n",
       "      <th>3</th>\n",
       "      <td>3</td>\n",
       "      <td>0.600000</td>\n",
       "    </tr>\n",
       "    <tr>\n",
       "      <th>4</th>\n",
       "      <td>4</td>\n",
       "      <td>0.000000</td>\n",
       "    </tr>\n",
       "    <tr>\n",
       "      <th>5</th>\n",
       "      <td>5</td>\n",
       "      <td>0.200000</td>\n",
       "    </tr>\n",
       "    <tr>\n",
       "      <th>6</th>\n",
       "      <td>6</td>\n",
       "      <td>0.000000</td>\n",
       "    </tr>\n",
       "  </tbody>\n",
       "</table>\n",
       "</div>"
      ],
      "text/plain": [
       "   Parch  Survived\n",
       "0      0  0.343658\n",
       "1      1  0.550847\n",
       "2      2  0.500000\n",
       "3      3  0.600000\n",
       "4      4  0.000000\n",
       "5      5  0.200000\n",
       "6      6  0.000000"
      ]
     },
     "execution_count": 134,
     "metadata": {},
     "output_type": "execute_result"
    }
   ],
   "source": [
    "df[[\"Parch\", \"Survived\"]].groupby(['Parch'], as_index=False).mean()"
   ]
  },
  {
   "cell_type": "markdown",
   "id": "f11d2e26",
   "metadata": {},
   "source": [
    "El 76% de los pasajeros del dataset fueron sin hijos y sin padres. Luego, el 13% fue acompañados por sólo un padre o un hijo, y hay un 8% que fueron con 2 de ellos. Luego, el resto de los grupos corresponden a menos del 1% de la población.\n",
    "Analizando cada grupo por separado, dentro del grupo mayoritario que fueron solos, el 34% sobrevivió. Dentro del grupo de 1 acompañante, el 55% sobrevivió y tomando el grupo de 2 acompañantes el 50% sobrevivió.\n",
    "Tomando los valores generales de toda la muestra, el mayor porcentaje de sobrevivientes es del grupo que fue sólo, con el 26,2% de sobrvivientes, seguido de aquellos que fueron con un padre o hijo, que corresponde al 7.3%. "
   ]
  },
  {
   "cell_type": "markdown",
   "id": "c62117cf",
   "metadata": {},
   "source": [
    "### `FamilySize`\n",
    "\n",
    "Con las variables `SibSp` y `Parch` podemos calcular el tamaño de la familia de un pasajero, que llamaremos `FamilySize`.\n",
    "\n",
    "Las familias con 4 integrantes conforman el grupo que más sobrevivientes tuvo. Seguido por las de 3 y luego las de 2 integrantes. "
   ]
  },
  {
   "cell_type": "code",
   "execution_count": 135,
   "id": "149cc38a",
   "metadata": {},
   "outputs": [],
   "source": [
    "df['FamilySize'] = df['SibSp'] + df['Parch'] + 1"
   ]
  },
  {
   "cell_type": "code",
   "execution_count": 136,
   "id": "62b8bfac",
   "metadata": {},
   "outputs": [
    {
     "data": {
      "image/png": "[encoded data removed]",
      "text/plain": [
       "<Figure size 864x504 with 1 Axes>"
      ]
     },
     "metadata": {
      "needs_background": "light"
     },
     "output_type": "display_data"
    }
   ],
   "source": [
    "graficar_variable(df,df['FamilySize'], df['Survived'])\n",
    "plt.title('Sobrevivientes según tamaño de la familia', fontsize = 15)\n",
    "plt.show()"
   ]
  },
  {
   "cell_type": "code",
   "execution_count": 137,
   "id": "8b0c9601",
   "metadata": {},
   "outputs": [
    {
     "data": {
      "text/html": [
       "<div>\n",
       "<style scoped>\n",
       "    .dataframe tbody tr th:only-of-type {\n",
       "        vertical-align: middle;\n",
       "    }\n",
       "\n",
       "    .dataframe tbody tr th {\n",
       "        vertical-align: top;\n",
       "    }\n",
       "\n",
       "    .dataframe thead th {\n",
       "        text-align: right;\n",
       "    }\n",
       "</style>\n",
       "<table border=\"1\" class=\"dataframe\">\n",
       "  <thead>\n",
       "    <tr style=\"text-align: right;\">\n",
       "      <th></th>\n",
       "      <th>No_sobrevivio</th>\n",
       "      <th>Sobrevivio</th>\n",
       "      <th>Porcentaje_dataset</th>\n",
       "    </tr>\n",
       "    <tr>\n",
       "      <th>FamilySize</th>\n",
       "      <th></th>\n",
       "      <th></th>\n",
       "      <th></th>\n",
       "    </tr>\n",
       "  </thead>\n",
       "  <tbody>\n",
       "    <tr>\n",
       "      <th>1</th>\n",
       "      <td>374.0</td>\n",
       "      <td>163.0</td>\n",
       "      <td>60.269360</td>\n",
       "    </tr>\n",
       "    <tr>\n",
       "      <th>2</th>\n",
       "      <td>72.0</td>\n",
       "      <td>89.0</td>\n",
       "      <td>18.069585</td>\n",
       "    </tr>\n",
       "    <tr>\n",
       "      <th>3</th>\n",
       "      <td>43.0</td>\n",
       "      <td>59.0</td>\n",
       "      <td>11.447811</td>\n",
       "    </tr>\n",
       "    <tr>\n",
       "      <th>4</th>\n",
       "      <td>8.0</td>\n",
       "      <td>21.0</td>\n",
       "      <td>3.254770</td>\n",
       "    </tr>\n",
       "    <tr>\n",
       "      <th>6</th>\n",
       "      <td>19.0</td>\n",
       "      <td>3.0</td>\n",
       "      <td>2.469136</td>\n",
       "    </tr>\n",
       "    <tr>\n",
       "      <th>5</th>\n",
       "      <td>12.0</td>\n",
       "      <td>3.0</td>\n",
       "      <td>1.683502</td>\n",
       "    </tr>\n",
       "    <tr>\n",
       "      <th>7</th>\n",
       "      <td>8.0</td>\n",
       "      <td>4.0</td>\n",
       "      <td>1.346801</td>\n",
       "    </tr>\n",
       "    <tr>\n",
       "      <th>8</th>\n",
       "      <td>6.0</td>\n",
       "      <td>NaN</td>\n",
       "      <td>NaN</td>\n",
       "    </tr>\n",
       "    <tr>\n",
       "      <th>11</th>\n",
       "      <td>7.0</td>\n",
       "      <td>NaN</td>\n",
       "      <td>NaN</td>\n",
       "    </tr>\n",
       "  </tbody>\n",
       "</table>\n",
       "</div>"
      ],
      "text/plain": [
       "            No_sobrevivio  Sobrevivio  Porcentaje_dataset\n",
       "FamilySize                                               \n",
       "1                   374.0       163.0           60.269360\n",
       "2                    72.0        89.0           18.069585\n",
       "3                    43.0        59.0           11.447811\n",
       "4                     8.0        21.0            3.254770\n",
       "6                    19.0         3.0            2.469136\n",
       "5                    12.0         3.0            1.683502\n",
       "7                     8.0         4.0            1.346801\n",
       "8                     6.0         NaN                 NaN\n",
       "11                    7.0         NaN                 NaN"
      ]
     },
     "execution_count": 137,
     "metadata": {},
     "output_type": "execute_result"
    }
   ],
   "source": [
    "crear_tabla(df,df['FamilySize'])"
   ]
  },
  {
   "cell_type": "code",
   "execution_count": 138,
   "id": "ea63a357",
   "metadata": {},
   "outputs": [
    {
     "data": {
      "text/html": [
       "<div>\n",
       "<style scoped>\n",
       "    .dataframe tbody tr th:only-of-type {\n",
       "        vertical-align: middle;\n",
       "    }\n",
       "\n",
       "    .dataframe tbody tr th {\n",
       "        vertical-align: top;\n",
       "    }\n",
       "\n",
       "    .dataframe thead th {\n",
       "        text-align: right;\n",
       "    }\n",
       "</style>\n",
       "<table border=\"1\" class=\"dataframe\">\n",
       "  <thead>\n",
       "    <tr style=\"text-align: right;\">\n",
       "      <th></th>\n",
       "      <th>FamilySize</th>\n",
       "      <th>Survived</th>\n",
       "    </tr>\n",
       "  </thead>\n",
       "  <tbody>\n",
       "    <tr>\n",
       "      <th>0</th>\n",
       "      <td>1</td>\n",
       "      <td>0.303538</td>\n",
       "    </tr>\n",
       "    <tr>\n",
       "      <th>1</th>\n",
       "      <td>2</td>\n",
       "      <td>0.552795</td>\n",
       "    </tr>\n",
       "    <tr>\n",
       "      <th>2</th>\n",
       "      <td>3</td>\n",
       "      <td>0.578431</td>\n",
       "    </tr>\n",
       "    <tr>\n",
       "      <th>3</th>\n",
       "      <td>4</td>\n",
       "      <td>0.724138</td>\n",
       "    </tr>\n",
       "    <tr>\n",
       "      <th>4</th>\n",
       "      <td>5</td>\n",
       "      <td>0.200000</td>\n",
       "    </tr>\n",
       "    <tr>\n",
       "      <th>5</th>\n",
       "      <td>6</td>\n",
       "      <td>0.136364</td>\n",
       "    </tr>\n",
       "    <tr>\n",
       "      <th>6</th>\n",
       "      <td>7</td>\n",
       "      <td>0.333333</td>\n",
       "    </tr>\n",
       "    <tr>\n",
       "      <th>7</th>\n",
       "      <td>8</td>\n",
       "      <td>0.000000</td>\n",
       "    </tr>\n",
       "    <tr>\n",
       "      <th>8</th>\n",
       "      <td>11</td>\n",
       "      <td>0.000000</td>\n",
       "    </tr>\n",
       "  </tbody>\n",
       "</table>\n",
       "</div>"
      ],
      "text/plain": [
       "   FamilySize  Survived\n",
       "0           1  0.303538\n",
       "1           2  0.552795\n",
       "2           3  0.578431\n",
       "3           4  0.724138\n",
       "4           5  0.200000\n",
       "5           6  0.136364\n",
       "6           7  0.333333\n",
       "7           8  0.000000\n",
       "8          11  0.000000"
      ]
     },
     "execution_count": 138,
     "metadata": {},
     "output_type": "execute_result"
    }
   ],
   "source": [
    "df[[\"FamilySize\", \"Survived\"]].groupby(['FamilySize'], as_index=False).mean()"
   ]
  },
  {
   "cell_type": "markdown",
   "id": "499a117e",
   "metadata": {},
   "source": [
    "El 60% del dataset está formado por pasajeros que fueron solos, ya que el tamaño de su familia indica 1. El siguiente grupo en mayor porcentaje es el de familias formadas por dos integrantes, los cuales representan el 18% del dataset y luego los de 3 integrantes representan el 11,4%. El resto corresponden a grupo de menos del 5%. \n",
    "Si analizamos cada grupo por separado, del grupo de sólo 1 integrante, sobrevivió el 30%, pero a nivel general este grupo es el que más sobrevivientes tuvo, el 18,3%. \n",
    "Dentro del grupo de 2 integrantes, el 55% sobrevivió, pero a nivel general, esto corresponde al 10%."
   ]
  },
  {
   "cell_type": "markdown",
   "id": "9ad933e6",
   "metadata": {},
   "source": [
    "Como la variable FamilySize incluye las variables Parch y SibSp, eliminaremos estas últimas."
   ]
  },
  {
   "cell_type": "code",
   "execution_count": 139,
   "id": "e723fffa",
   "metadata": {},
   "outputs": [],
   "source": [
    "df.drop(['SibSp'], axis=1, inplace=True)\n",
    "df.drop(['Parch'], axis=1, inplace=True)"
   ]
  },
  {
   "cell_type": "markdown",
   "id": "0df8e2b6",
   "metadata": {},
   "source": [
    "### `Embarked`\n",
    "\n",
    "Indica el puerto de embarque del pasajero. Es una variable categórica donde `C` indica que embarcó en Cherbourg, `Q` en Queenstown y `S` en Southampton."
   ]
  },
  {
   "cell_type": "code",
   "execution_count": 140,
   "id": "d03af5be",
   "metadata": {},
   "outputs": [
    {
     "data": {
      "image/png": "[encoded data removed]",
      "text/plain": [
       "<Figure size 864x504 with 1 Axes>"
      ]
     },
     "metadata": {
      "needs_background": "light"
     },
     "output_type": "display_data"
    }
   ],
   "source": [
    "graficar_variable(df,df['Embarked'], df['Survived'])\n",
    "plt.title('Sobrevivientes según el puerto de embarque', fontsize = 15)\n",
    "plt.show()"
   ]
  },
  {
   "cell_type": "code",
   "execution_count": 141,
   "id": "5fab1b17",
   "metadata": {},
   "outputs": [
    {
     "data": {
      "text/html": [
       "<div>\n",
       "<style scoped>\n",
       "    .dataframe tbody tr th:only-of-type {\n",
       "        vertical-align: middle;\n",
       "    }\n",
       "\n",
       "    .dataframe tbody tr th {\n",
       "        vertical-align: top;\n",
       "    }\n",
       "\n",
       "    .dataframe thead th {\n",
       "        text-align: right;\n",
       "    }\n",
       "</style>\n",
       "<table border=\"1\" class=\"dataframe\">\n",
       "  <thead>\n",
       "    <tr style=\"text-align: right;\">\n",
       "      <th></th>\n",
       "      <th>No_sobrevivio</th>\n",
       "      <th>Sobrevivio</th>\n",
       "      <th>Porcentaje_dataset</th>\n",
       "    </tr>\n",
       "    <tr>\n",
       "      <th>Embarked</th>\n",
       "      <th></th>\n",
       "      <th></th>\n",
       "      <th></th>\n",
       "    </tr>\n",
       "  </thead>\n",
       "  <tbody>\n",
       "    <tr>\n",
       "      <th>S</th>\n",
       "      <td>427</td>\n",
       "      <td>219</td>\n",
       "      <td>72.502806</td>\n",
       "    </tr>\n",
       "    <tr>\n",
       "      <th>C</th>\n",
       "      <td>75</td>\n",
       "      <td>93</td>\n",
       "      <td>18.855219</td>\n",
       "    </tr>\n",
       "    <tr>\n",
       "      <th>Q</th>\n",
       "      <td>47</td>\n",
       "      <td>30</td>\n",
       "      <td>8.641975</td>\n",
       "    </tr>\n",
       "  </tbody>\n",
       "</table>\n",
       "</div>"
      ],
      "text/plain": [
       "          No_sobrevivio  Sobrevivio  Porcentaje_dataset\n",
       "Embarked                                               \n",
       "S                   427         219           72.502806\n",
       "C                    75          93           18.855219\n",
       "Q                    47          30            8.641975"
      ]
     },
     "execution_count": 141,
     "metadata": {},
     "output_type": "execute_result"
    }
   ],
   "source": [
    "crear_tabla(df,df['Embarked'])"
   ]
  },
  {
   "cell_type": "code",
   "execution_count": 142,
   "id": "e3d1220b",
   "metadata": {
    "scrolled": true
   },
   "outputs": [
    {
     "data": {
      "text/html": [
       "<div>\n",
       "<style scoped>\n",
       "    .dataframe tbody tr th:only-of-type {\n",
       "        vertical-align: middle;\n",
       "    }\n",
       "\n",
       "    .dataframe tbody tr th {\n",
       "        vertical-align: top;\n",
       "    }\n",
       "\n",
       "    .dataframe thead th {\n",
       "        text-align: right;\n",
       "    }\n",
       "</style>\n",
       "<table border=\"1\" class=\"dataframe\">\n",
       "  <thead>\n",
       "    <tr style=\"text-align: right;\">\n",
       "      <th></th>\n",
       "      <th>Embarked</th>\n",
       "      <th>Survived</th>\n",
       "    </tr>\n",
       "  </thead>\n",
       "  <tbody>\n",
       "    <tr>\n",
       "      <th>0</th>\n",
       "      <td>C</td>\n",
       "      <td>0.553571</td>\n",
       "    </tr>\n",
       "    <tr>\n",
       "      <th>1</th>\n",
       "      <td>Q</td>\n",
       "      <td>0.389610</td>\n",
       "    </tr>\n",
       "    <tr>\n",
       "      <th>2</th>\n",
       "      <td>S</td>\n",
       "      <td>0.339009</td>\n",
       "    </tr>\n",
       "  </tbody>\n",
       "</table>\n",
       "</div>"
      ],
      "text/plain": [
       "  Embarked  Survived\n",
       "0        C  0.553571\n",
       "1        Q  0.389610\n",
       "2        S  0.339009"
      ]
     },
     "execution_count": 142,
     "metadata": {},
     "output_type": "execute_result"
    }
   ],
   "source": [
    "df[['Embarked', 'Survived']].groupby(['Embarked'], as_index=False).mean()"
   ]
  },
  {
   "cell_type": "markdown",
   "id": "76368d7f",
   "metadata": {},
   "source": [
    "El 72% de los pasajeros embarcaron en el puerto Southampton, el 19% en Cherbourg y el 9% restante en Queenstown. \n",
    "Analizando los grupos por separado, el 55% de los que embarcaron en Chercourg sobrevivieron, el 39% de los que embarcaron en Queenstown sobrevivieron y de los que lo hicieron en Southampton, sobrevivió el 34%."
   ]
  },
  {
   "cell_type": "markdown",
   "id": "f5e2cd00",
   "metadata": {},
   "source": [
    "La convertimos a variable numérica a través de variables dummy:"
   ]
  },
  {
   "cell_type": "code",
   "execution_count": 143,
   "id": "2933a484",
   "metadata": {
    "scrolled": true
   },
   "outputs": [
    {
     "data": {
      "text/html": [
       "<div>\n",
       "<style scoped>\n",
       "    .dataframe tbody tr th:only-of-type {\n",
       "        vertical-align: middle;\n",
       "    }\n",
       "\n",
       "    .dataframe tbody tr th {\n",
       "        vertical-align: top;\n",
       "    }\n",
       "\n",
       "    .dataframe thead th {\n",
       "        text-align: right;\n",
       "    }\n",
       "</style>\n",
       "<table border=\"1\" class=\"dataframe\">\n",
       "  <thead>\n",
       "    <tr style=\"text-align: right;\">\n",
       "      <th></th>\n",
       "      <th>Survived</th>\n",
       "      <th>Pclass</th>\n",
       "      <th>Sex</th>\n",
       "      <th>Age</th>\n",
       "      <th>Fare</th>\n",
       "      <th>Embarked</th>\n",
       "      <th>FamilySize</th>\n",
       "      <th>C</th>\n",
       "      <th>Q</th>\n",
       "      <th>S</th>\n",
       "    </tr>\n",
       "  </thead>\n",
       "  <tbody>\n",
       "    <tr>\n",
       "      <th>0</th>\n",
       "      <td>0</td>\n",
       "      <td>3</td>\n",
       "      <td>1</td>\n",
       "      <td>22.0</td>\n",
       "      <td>7.2500</td>\n",
       "      <td>S</td>\n",
       "      <td>2</td>\n",
       "      <td>0</td>\n",
       "      <td>0</td>\n",
       "      <td>1</td>\n",
       "    </tr>\n",
       "    <tr>\n",
       "      <th>1</th>\n",
       "      <td>1</td>\n",
       "      <td>1</td>\n",
       "      <td>0</td>\n",
       "      <td>38.0</td>\n",
       "      <td>71.2833</td>\n",
       "      <td>C</td>\n",
       "      <td>2</td>\n",
       "      <td>1</td>\n",
       "      <td>0</td>\n",
       "      <td>0</td>\n",
       "    </tr>\n",
       "    <tr>\n",
       "      <th>2</th>\n",
       "      <td>1</td>\n",
       "      <td>3</td>\n",
       "      <td>0</td>\n",
       "      <td>26.0</td>\n",
       "      <td>7.9250</td>\n",
       "      <td>S</td>\n",
       "      <td>1</td>\n",
       "      <td>0</td>\n",
       "      <td>0</td>\n",
       "      <td>1</td>\n",
       "    </tr>\n",
       "    <tr>\n",
       "      <th>3</th>\n",
       "      <td>1</td>\n",
       "      <td>1</td>\n",
       "      <td>0</td>\n",
       "      <td>35.0</td>\n",
       "      <td>53.1000</td>\n",
       "      <td>S</td>\n",
       "      <td>2</td>\n",
       "      <td>0</td>\n",
       "      <td>0</td>\n",
       "      <td>1</td>\n",
       "    </tr>\n",
       "    <tr>\n",
       "      <th>4</th>\n",
       "      <td>0</td>\n",
       "      <td>3</td>\n",
       "      <td>1</td>\n",
       "      <td>35.0</td>\n",
       "      <td>8.0500</td>\n",
       "      <td>S</td>\n",
       "      <td>1</td>\n",
       "      <td>0</td>\n",
       "      <td>0</td>\n",
       "      <td>1</td>\n",
       "    </tr>\n",
       "  </tbody>\n",
       "</table>\n",
       "</div>"
      ],
      "text/plain": [
       "   Survived  Pclass  Sex   Age     Fare Embarked  FamilySize  C  Q  S\n",
       "0         0       3    1  22.0   7.2500        S           2  0  0  1\n",
       "1         1       1    0  38.0  71.2833        C           2  1  0  0\n",
       "2         1       3    0  26.0   7.9250        S           1  0  0  1\n",
       "3         1       1    0  35.0  53.1000        S           2  0  0  1\n",
       "4         0       3    1  35.0   8.0500        S           1  0  0  1"
      ]
     },
     "execution_count": 143,
     "metadata": {},
     "output_type": "execute_result"
    }
   ],
   "source": [
    "Embarked_dummy = pd.get_dummies(df['Embarked'])\n",
    "df = pd.concat([df, Embarked_dummy], axis=1)\n",
    "df.head()"
   ]
  },
  {
   "cell_type": "markdown",
   "id": "3f328221",
   "metadata": {},
   "source": [
    "### `Fare`\n",
    "\n",
    "Indica el precio del pasaje. Es una variable numerica continua."
   ]
  },
  {
   "cell_type": "code",
   "execution_count": 144,
   "id": "c66b4684",
   "metadata": {},
   "outputs": [
    {
     "data": {
      "image/png": "[encoded data removed]",
      "text/plain": [
       "<Figure size 720x360 with 1 Axes>"
      ]
     },
     "metadata": {
      "needs_background": "light"
     },
     "output_type": "display_data"
    }
   ],
   "source": [
    "sns.displot(df['Fare'], kde=True, aspect = 2, height = 5)\n",
    "plt.title('Fare', fontsize = 15)\n",
    "plt.show()"
   ]
  },
  {
   "cell_type": "markdown",
   "id": "0122f03e",
   "metadata": {},
   "source": [
    "### `Age`\n",
    "\n",
    "Edad del pasajero.\n",
    "Categorizaremos la variable en 8 categorías según la edad que tenga. La categoría `Unknown` será la de aquellos pasajeros que no tengamos la edad."
   ]
  },
  {
   "cell_type": "code",
   "execution_count": 145,
   "id": "37e31cd8",
   "metadata": {},
   "outputs": [],
   "source": [
    "df[\"Age\"] = df[\"Age\"].fillna(-0.5)\n",
    "bins = [-1, 0, 5, 12, 18, 24, 35, 60, np.inf]\n",
    "labels = ['Unknown', 'Baby', 'Child', 'Teenager', 'Student', 'Young Adult', 'Adult', 'Senior']\n",
    "df['AgeGroup'] = pd.cut(df[\"Age\"], bins, labels = labels)"
   ]
  },
  {
   "cell_type": "code",
   "execution_count": 146,
   "id": "66cb6548",
   "metadata": {},
   "outputs": [
    {
     "data": {
      "image/png": "[encoded data removed]",
      "text/plain": [
       "<Figure size 864x504 with 1 Axes>"
      ]
     },
     "metadata": {
      "needs_background": "light"
     },
     "output_type": "display_data"
    }
   ],
   "source": [
    "graficar_variable(df,df['AgeGroup'], df['Survived'])\n",
    "plt.title('Sobrevivientes según edad', fontsize = 15)\n",
    "plt.show()"
   ]
  },
  {
   "cell_type": "code",
   "execution_count": 147,
   "id": "2ee6fb42",
   "metadata": {},
   "outputs": [
    {
     "data": {
      "text/html": [
       "<div>\n",
       "<style scoped>\n",
       "    .dataframe tbody tr th:only-of-type {\n",
       "        vertical-align: middle;\n",
       "    }\n",
       "\n",
       "    .dataframe tbody tr th {\n",
       "        vertical-align: top;\n",
       "    }\n",
       "\n",
       "    .dataframe thead th {\n",
       "        text-align: right;\n",
       "    }\n",
       "</style>\n",
       "<table border=\"1\" class=\"dataframe\">\n",
       "  <thead>\n",
       "    <tr style=\"text-align: right;\">\n",
       "      <th></th>\n",
       "      <th>No_sobrevivio</th>\n",
       "      <th>Sobrevivio</th>\n",
       "      <th>Porcentaje_dataset</th>\n",
       "    </tr>\n",
       "    <tr>\n",
       "      <th>AgeGroup</th>\n",
       "      <th></th>\n",
       "      <th></th>\n",
       "      <th></th>\n",
       "    </tr>\n",
       "  </thead>\n",
       "  <tbody>\n",
       "    <tr>\n",
       "      <th>Young Adult</th>\n",
       "      <td>256</td>\n",
       "      <td>141</td>\n",
       "      <td>44.556678</td>\n",
       "    </tr>\n",
       "    <tr>\n",
       "      <th>Adult</th>\n",
       "      <td>117</td>\n",
       "      <td>78</td>\n",
       "      <td>21.885522</td>\n",
       "    </tr>\n",
       "    <tr>\n",
       "      <th>Student</th>\n",
       "      <td>90</td>\n",
       "      <td>48</td>\n",
       "      <td>15.488215</td>\n",
       "    </tr>\n",
       "    <tr>\n",
       "      <th>Teenager</th>\n",
       "      <td>40</td>\n",
       "      <td>30</td>\n",
       "      <td>7.856341</td>\n",
       "    </tr>\n",
       "    <tr>\n",
       "      <th>Baby</th>\n",
       "      <td>13</td>\n",
       "      <td>31</td>\n",
       "      <td>4.938272</td>\n",
       "    </tr>\n",
       "    <tr>\n",
       "      <th>Child</th>\n",
       "      <td>16</td>\n",
       "      <td>9</td>\n",
       "      <td>2.805836</td>\n",
       "    </tr>\n",
       "    <tr>\n",
       "      <th>Senior</th>\n",
       "      <td>17</td>\n",
       "      <td>5</td>\n",
       "      <td>2.469136</td>\n",
       "    </tr>\n",
       "    <tr>\n",
       "      <th>Unknown</th>\n",
       "      <td>0</td>\n",
       "      <td>0</td>\n",
       "      <td>0.000000</td>\n",
       "    </tr>\n",
       "  </tbody>\n",
       "</table>\n",
       "</div>"
      ],
      "text/plain": [
       "             No_sobrevivio  Sobrevivio  Porcentaje_dataset\n",
       "AgeGroup                                                  \n",
       "Young Adult            256         141           44.556678\n",
       "Adult                  117          78           21.885522\n",
       "Student                 90          48           15.488215\n",
       "Teenager                40          30            7.856341\n",
       "Baby                    13          31            4.938272\n",
       "Child                   16           9            2.805836\n",
       "Senior                  17           5            2.469136\n",
       "Unknown                  0           0            0.000000"
      ]
     },
     "execution_count": 147,
     "metadata": {},
     "output_type": "execute_result"
    }
   ],
   "source": [
    "crear_tabla(df,df['AgeGroup'])"
   ]
  },
  {
   "cell_type": "code",
   "execution_count": 148,
   "id": "db54aa0f",
   "metadata": {
    "scrolled": false
   },
   "outputs": [
    {
     "data": {
      "text/html": [
       "<div>\n",
       "<style scoped>\n",
       "    .dataframe tbody tr th:only-of-type {\n",
       "        vertical-align: middle;\n",
       "    }\n",
       "\n",
       "    .dataframe tbody tr th {\n",
       "        vertical-align: top;\n",
       "    }\n",
       "\n",
       "    .dataframe thead th {\n",
       "        text-align: right;\n",
       "    }\n",
       "</style>\n",
       "<table border=\"1\" class=\"dataframe\">\n",
       "  <thead>\n",
       "    <tr style=\"text-align: right;\">\n",
       "      <th></th>\n",
       "      <th>AgeGroup</th>\n",
       "      <th>Survived</th>\n",
       "    </tr>\n",
       "  </thead>\n",
       "  <tbody>\n",
       "    <tr>\n",
       "      <th>0</th>\n",
       "      <td>Unknown</td>\n",
       "      <td>NaN</td>\n",
       "    </tr>\n",
       "    <tr>\n",
       "      <th>1</th>\n",
       "      <td>Baby</td>\n",
       "      <td>0.704545</td>\n",
       "    </tr>\n",
       "    <tr>\n",
       "      <th>2</th>\n",
       "      <td>Child</td>\n",
       "      <td>0.360000</td>\n",
       "    </tr>\n",
       "    <tr>\n",
       "      <th>3</th>\n",
       "      <td>Teenager</td>\n",
       "      <td>0.428571</td>\n",
       "    </tr>\n",
       "    <tr>\n",
       "      <th>4</th>\n",
       "      <td>Student</td>\n",
       "      <td>0.347826</td>\n",
       "    </tr>\n",
       "    <tr>\n",
       "      <th>5</th>\n",
       "      <td>Young Adult</td>\n",
       "      <td>0.355164</td>\n",
       "    </tr>\n",
       "    <tr>\n",
       "      <th>6</th>\n",
       "      <td>Adult</td>\n",
       "      <td>0.400000</td>\n",
       "    </tr>\n",
       "    <tr>\n",
       "      <th>7</th>\n",
       "      <td>Senior</td>\n",
       "      <td>0.227273</td>\n",
       "    </tr>\n",
       "  </tbody>\n",
       "</table>\n",
       "</div>"
      ],
      "text/plain": [
       "      AgeGroup  Survived\n",
       "0      Unknown       NaN\n",
       "1         Baby  0.704545\n",
       "2        Child  0.360000\n",
       "3     Teenager  0.428571\n",
       "4      Student  0.347826\n",
       "5  Young Adult  0.355164\n",
       "6        Adult  0.400000\n",
       "7       Senior  0.227273"
      ]
     },
     "execution_count": 148,
     "metadata": {},
     "output_type": "execute_result"
    }
   ],
   "source": [
    "df[['AgeGroup', 'Survived']].groupby(['AgeGroup'], as_index=False).mean()"
   ]
  },
  {
   "cell_type": "markdown",
   "id": "6cae8df6",
   "metadata": {},
   "source": [
    "El 24,6% corresponde a la categoria \"Young Adults\" que son jóvenes de entre 24 y 35 años. El siguiente grupo mayoritario está formada por el grupo \"Adult\", que son los que tienen entre 35 y 60 años, y corresponden al 22% del dataset. Luego, el 20% corresponde a la categoría \"Unknown\" de los cuales no tenemos el dato.  \n",
    "Tomando los grupos por separado, es de esperar que el mayor porcentaje de sobrevivientes lo tenga la categoría \"Baby\", seguido por los \"Teenager\"."
   ]
  },
  {
   "cell_type": "markdown",
   "id": "4973ab61",
   "metadata": {},
   "source": [
    "##### 4.1. Selección de los grupos de datos que se quieren analizar/comparar (p. e., si se van a comparar grupos de datos, ¿cuáles son estos grupos y qué tipo de análisis se van a aplicar?)"
   ]
  },
  {
   "cell_type": "code",
   "execution_count": 150,
   "id": "b83e15af",
   "metadata": {},
   "outputs": [
    {
     "name": "stdout",
     "output_type": "stream",
     "text": [
      "Las variables que hemos dejado son las siguientes: Index(['Survived', 'Pclass', 'Sex', 'Age', 'Fare', 'Embarked', 'FamilySize',\n",
      "       'C', 'Q', 'S', 'AgeGroup'],\n",
      "      dtype='object')\n"
     ]
    }
   ],
   "source": [
    "print('Las variables que hemos dejado son las siguientes:', df.columns)"
   ]
  },
  {
   "cell_type": "markdown",
   "id": "c74e8740",
   "metadata": {},
   "source": [
    "###### Comprobación de la normalidad y homogeneidad de la varianza"
   ]
  },
  {
   "cell_type": "markdown",
   "id": "b668c929",
   "metadata": {},
   "source": [
    " - Normalidad"
   ]
  },
  {
   "cell_type": "markdown",
   "id": "e9fc3d3b",
   "metadata": {},
   "source": [
    "Con el objetivo de verificar la normalidad de los datos aplicaremos el test de Shapiro-Wilk. \n",
    "Asumiendo como hipótesis nula que la población está distribuida normalmente, si el p-value es menor al nivel de significancia, que definiremos como alfa = 0.05, entonces la hipótesis nula es rechazada y se concluye que los datos no cuentan con una distribución normal. Si, por el contrario, el p-value es mayor a alfa entonces no se puede rechazar la H0 y se asume que los datos siguen una distribución normal. \n",
    "\n",
    "En nuestro caso validaremos la normalidad de la variable numérica Fare y Age:"
   ]
  },
  {
   "cell_type": "code",
   "execution_count": 151,
   "id": "a26f1137",
   "metadata": {},
   "outputs": [
    {
     "data": {
      "text/plain": [
       "ShapiroResult(statistic=0.5218914747238159, pvalue=1.0789998175301091e-43)"
      ]
     },
     "execution_count": 151,
     "metadata": {},
     "output_type": "execute_result"
    }
   ],
   "source": [
    "from scipy.stats import shapiro\n",
    "\n",
    "#Variable Fare\n",
    "shapiro(df['Fare'])"
   ]
  },
  {
   "cell_type": "markdown",
   "id": "e665f152",
   "metadata": {},
   "source": [
    "Dado que el p-value es menor que alfa = 0.05 se rechaza la hipótesis nula y concluimos que la variable no tiene distribución normal.  \n",
    "También podemos evaluarlo de manera gráfica con el gráfico cuantil-cuantil que compara los residuos del modelo con los valores de una variable que se distribuye normalmente:\n"
   ]
  },
  {
   "cell_type": "code",
   "execution_count": 152,
   "id": "1195d6c7",
   "metadata": {},
   "outputs": [
    {
     "data": {
      "image/png": "[encoded data removed]",
      "text/plain": [
       "<Figure size 432x288 with 1 Axes>"
      ]
     },
     "metadata": {
      "needs_background": "light"
     },
     "output_type": "display_data"
    }
   ],
   "source": [
    "import scipy.stats as stats\n",
    "import pylab \n",
    "stats.probplot(df['Fare'], dist=\"norm\", plot=pylab)\n",
    "plt.show()"
   ]
  },
  {
   "cell_type": "markdown",
   "id": "1586aafd",
   "metadata": {},
   "source": [
    "Vemos que los puntos se alejan de la recta con distribución normal. \n",
    "Probamos aplicando el logaritmo para ver si podemos normalizar la distribucion de la variable:"
   ]
  },
  {
   "cell_type": "code",
   "execution_count": 153,
   "id": "c703eede",
   "metadata": {},
   "outputs": [
    {
     "data": {
      "text/plain": [
       "ShapiroResult(statistic=0.9152467846870422, pvalue=6.642045243763613e-22)"
      ]
     },
     "execution_count": 153,
     "metadata": {},
     "output_type": "execute_result"
    }
   ],
   "source": [
    "df['Fare'] = np.log1p(df['Fare'])\n",
    "#Variable Fare\n",
    "shapiro(df['Fare'])"
   ]
  },
  {
   "cell_type": "code",
   "execution_count": 154,
   "id": "0a885152",
   "metadata": {},
   "outputs": [
    {
     "data": {
      "image/png": "[encoded data removed]",
      "text/plain": [
       "<Figure size 432x288 with 1 Axes>"
      ]
     },
     "metadata": {
      "needs_background": "light"
     },
     "output_type": "display_data"
    }
   ],
   "source": [
    "stats.probplot(df['Fare'], dist=\"norm\", plot=pylab)\n",
    "plt.show()"
   ]
  },
  {
   "cell_type": "markdown",
   "id": "7e81289a",
   "metadata": {},
   "source": [
    "Vemos que aplicando el logaritmo el p-value sigue siendo menor que el alfa pero gráficamente podemos ver como los puntos se van acercarndo más a l adistribución normal."
   ]
  },
  {
   "cell_type": "markdown",
   "id": "cee5a82c",
   "metadata": {},
   "source": [
    "A continuación aplicaremos otro test, el test de Kolmorogov-Smirnov para evaluar la normalidad de la variable 'Fare'"
   ]
  },
  {
   "cell_type": "code",
   "execution_count": 155,
   "id": "a830fef5",
   "metadata": {},
   "outputs": [
    {
     "data": {
      "text/plain": [
       "KstestResult(statistic=0.9573983683814443, pvalue=0.0)"
      ]
     },
     "execution_count": 155,
     "metadata": {},
     "output_type": "execute_result"
    }
   ],
   "source": [
    "from scipy.stats import kstest\n",
    "kstest(df['Fare'], 'norm')"
   ]
  },
  {
   "cell_type": "markdown",
   "id": "012a161b",
   "metadata": {},
   "source": [
    "En este caso, el resultado está mucho más cercano al valor de alfa, pero el resultado coincide con el test de Shapiro-Wilk sobre el rechazo de la H0. "
   ]
  },
  {
   "cell_type": "markdown",
   "id": "e28e6c3d",
   "metadata": {},
   "source": [
    "Pero, teniendo en cuenta el Teorema del Límite Central, que indica que la media de una muestra es cada vez más normal a medida que aumenta la cantidad de observaciones. \n",
    "Se considera suficientemente grande a más de 30 observaciones, en este caso contamos con 891 valores, por lo que se podría considerar que la variable sigue una distribución normal."
   ]
  },
  {
   "cell_type": "code",
   "execution_count": 156,
   "id": "bad175a0",
   "metadata": {},
   "outputs": [
    {
     "data": {
      "text/plain": [
       "891"
      ]
     },
     "execution_count": 156,
     "metadata": {},
     "output_type": "execute_result"
    }
   ],
   "source": [
    "df['Fare'].shape[0]"
   ]
  },
  {
   "cell_type": "code",
   "execution_count": 157,
   "id": "0ceaddba",
   "metadata": {},
   "outputs": [
    {
     "data": {
      "text/plain": [
       "ShapiroResult(statistic=0.9541045427322388, pvalue=4.650938269969563e-16)"
      ]
     },
     "execution_count": 157,
     "metadata": {},
     "output_type": "execute_result"
    }
   ],
   "source": [
    "#Variable Age\n",
    "df['Age'] = np.where(df['Age'] < 0, 0, df['Age'])\n",
    "shapiro(df['Age'])"
   ]
  },
  {
   "cell_type": "code",
   "execution_count": 158,
   "id": "18af5d35",
   "metadata": {},
   "outputs": [
    {
     "data": {
      "image/png": "[encoded data removed]",
      "text/plain": [
       "<Figure size 432x288 with 1 Axes>"
      ]
     },
     "metadata": {
      "needs_background": "light"
     },
     "output_type": "display_data"
    }
   ],
   "source": [
    "stats.probplot(df['Age'], dist=\"norm\", plot=pylab)\n",
    "plt.show()"
   ]
  },
  {
   "cell_type": "markdown",
   "id": "5f03da1b",
   "metadata": {},
   "source": [
    "En el caso de la variable 'Age' el p-value luego de aplicar el test de Shapiro-Wilks es menor al valor de alfa, por lo que no podemos asegurar la normalidad de la variable. El gráfico valida también este resultado, vemos que en uno de los extremos los valores se alejan de la recta con distribución normal, lo que podría indicar falta de normalidad en los datos.\n",
    "\n",
    "Pero, aplicando nuevamente el Teorema del Límite Central, la variable se podría considerar normal debido a que tiene 891 observaciones."
   ]
  },
  {
   "cell_type": "markdown",
   "id": "c870bf89",
   "metadata": {},
   "source": [
    "- Homogeneidad de la varianza"
   ]
  },
  {
   "cell_type": "markdown",
   "id": "3788d6c2",
   "metadata": {},
   "source": [
    "Para el análisis de la *homogeneidad* de varianzas utilizaremos el test de Fligner-Killeen, ya que es un test no paramétrico, que se utiliza cuando las variables no siguen una distribución normal.\n",
    "La hipótesis nula H0 asume igualdad de varianzas en los diferentes grupos de datos, por lo que p-values menores al nivel de significancia indicarán heterocedasticidad.\n",
    "\n",
    "En este caso, estudiaremos esta homogeneidad entre los grupos conformados por mujeres y por hombres:"
   ]
  },
  {
   "cell_type": "code",
   "execution_count": 159,
   "id": "8e817dd0",
   "metadata": {},
   "outputs": [
    {
     "data": {
      "text/plain": [
       "FlignerResult(statistic=10.746465944041198, pvalue=0.0010447864597771198)"
      ]
     },
     "execution_count": 159,
     "metadata": {},
     "output_type": "execute_result"
    }
   ],
   "source": [
    "stats.fligner(df['Survived'], df['Sex'], center='mean')"
   ]
  },
  {
   "cell_type": "markdown",
   "id": "bdb15d9d",
   "metadata": {},
   "source": [
    "Obtuvimos un p-value menor al valor de significancia, por lo tanto se rechaza la hipótesis nula y concluimos que las varianzas de las muestras son distintas, es decir no hay la misma varianza en la muestra de hombres que de mujeres"
   ]
  },
  {
   "cell_type": "markdown",
   "id": "9c60d3b9",
   "metadata": {},
   "source": [
    "Ahora aplicaremos el mismo método para evlauar la homogeneidad de varianzas  entre las muestras conformados por las distintas clases:"
   ]
  },
  {
   "cell_type": "code",
   "execution_count": 160,
   "id": "a9201548",
   "metadata": {},
   "outputs": [
    {
     "data": {
      "text/plain": [
       "FlignerResult(statistic=585.8745259607911, pvalue=1.9781661175685402e-129)"
      ]
     },
     "execution_count": 160,
     "metadata": {},
     "output_type": "execute_result"
    }
   ],
   "source": [
    "stats.fligner(df['Survived'], df['Pclass'], center='mean')"
   ]
  },
  {
   "cell_type": "markdown",
   "id": "e9e31235",
   "metadata": {},
   "source": [
    "En este caso el p-value tambien es menor al nivel de significancia por lo que las muestras tienen varianzas distintas. "
   ]
  },
  {
   "cell_type": "markdown",
   "id": "e9be5144",
   "metadata": {},
   "source": [
    "##### Aplicación de pruebas estadísticas para comparar los grupos de datos"
   ]
  },
  {
   "cell_type": "markdown",
   "id": "6ce7fb1f",
   "metadata": {},
   "source": [
    "######  1. ¿Qué variables cuantitativas influyen más en la supervivencia de un pasajero?\n",
    "\n",
    "Para entender qué variable es más influyente calcularemos el coeficiente de correlación de Spearman ya que necesitamos un método no paramétrico por la falta de normalidad de las variables. \n",
    "\n",
    "Analizando la matriz de correlación que se muestra a continuación, vemos que la variable con mayor correlación con 'Survived' es Sex, seguido de Pclass y Fare. "
   ]
  },
  {
   "cell_type": "code",
   "execution_count": 161,
   "id": "2e83f09f",
   "metadata": {},
   "outputs": [
    {
     "data": {
      "image/png": "[encoded data removed]",
      "text/plain": [
       "<Figure size 1008x864 with 2 Axes>"
      ]
     },
     "metadata": {
      "needs_background": "light"
     },
     "output_type": "display_data"
    }
   ],
   "source": [
    "correlation_matrix = df.corr(method = 'spearman')\n",
    "correlation_matrix\n",
    "\n",
    "plt.figure(figsize=(14,12))\n",
    "plt.title('Spearmans Correlation of Features', y=1.05, size=15)\n",
    "sns.heatmap(correlation_matrix, annot = True);"
   ]
  },
  {
   "cell_type": "markdown",
   "id": "88733026",
   "metadata": {},
   "source": [
    "Analizaremos la relación entre las 3 variables con mayor influencia con la variable 'Survived':"
   ]
  },
  {
   "cell_type": "code",
   "execution_count": 162,
   "id": "43fbd35b",
   "metadata": {},
   "outputs": [],
   "source": [
    "from scipy.stats import spearmanr"
   ]
  },
  {
   "cell_type": "code",
   "execution_count": 163,
   "id": "b6fb0e9e",
   "metadata": {},
   "outputs": [
    {
     "name": "stdout",
     "output_type": "stream",
     "text": [
      "Spearmans correlation coefficient: -0.543\n",
      "La variable Survived y Sex están correlacionadas (se rechaza H0) p=0.000\n"
     ]
    }
   ],
   "source": [
    "coef, p = spearmanr(df['Survived'], df['Sex'])\n",
    "print('Spearmans correlation coefficient: %.3f' % coef)\n",
    "# interpret the significance\n",
    "alpha = 0.05\n",
    "if p > alpha:\n",
    "\tprint('La variable Survived y Sex no están correlacionadas (se acepta H0) p=%.3f' % p)\n",
    "else:\n",
    "\tprint('La variable Survived y Sex están correlacionadas (se rechaza H0) p=%.3f' % p)"
   ]
  },
  {
   "cell_type": "code",
   "execution_count": 164,
   "id": "e18affaa",
   "metadata": {},
   "outputs": [
    {
     "name": "stdout",
     "output_type": "stream",
     "text": [
      "Spearmans correlation coefficient: -0.340\n",
      "La variable Survived y Pclass están correlacionadas (se rechaza H0) p=0.000\n"
     ]
    }
   ],
   "source": [
    "coef, p = spearmanr(df['Survived'], df['Pclass'])\n",
    "print('Spearmans correlation coefficient: %.3f' % coef)\n",
    "# interpret the significance\n",
    "alpha = 0.05\n",
    "if p > alpha:\n",
    "\tprint('La variable Survived y Pclass no están correlacionadas (se acepta H0) p=%.3f' % p)\n",
    "else:\n",
    "\tprint('La variable Survived y Pclass están correlacionadas (se rechaza H0) p=%.3f' % p)"
   ]
  },
  {
   "cell_type": "code",
   "execution_count": 165,
   "id": "65fec411",
   "metadata": {
    "scrolled": true
   },
   "outputs": [
    {
     "name": "stdout",
     "output_type": "stream",
     "text": [
      "Spearmans correlation coefficient: 0.324\n",
      "La variable Survived y Fare están correlacionadas (se rechaza H0) p=0.000\n"
     ]
    }
   ],
   "source": [
    "coef, p = spearmanr(df['Survived'], df['Fare'])\n",
    "print('Spearmans correlation coefficient: %.3f' % coef)\n",
    "# interpret the significance\n",
    "alpha = 0.05\n",
    "if p > alpha:\n",
    "\tprint('La variable Survived y Fare no están correlacionadas (se acepta H0) p=%.3f' % p)\n",
    "else:\n",
    "\tprint('La variable Survived y Fare están correlacionadas (se rechaza H0) p=%.3f' % p)"
   ]
  },
  {
   "cell_type": "markdown",
   "id": "99ac3c32",
   "metadata": {},
   "source": [
    "Podemos determinar entonces que, de las variables que estamos evaluando, la variable que más influencia tiene en la supervivencia de los pasajeros es el sexo."
   ]
  },
  {
   "cell_type": "markdown",
   "id": "9afa7ca5",
   "metadata": {},
   "source": [
    "######  2.  ¿La proporción de sobrevivientes que embarcaron en el puerto Cherbourg es mayor que la cantidad de sobrevivientes que embarcaron en el puerto Queenstown?\n",
    "\n",
    "La segunda prueba estadística que se aplicará consistirá en un contraste de hipótesis sobre la proporción de dos muestras para determinar si la supervivencia es mayor si el embarque fue en Cherbourg comparado con Queenstown.\n",
    "\n",
    "Una de las muestras será la cantidad de sobrevivientes que embarcaron en el puerto Cherbourg, y la otra muestra será la cantidad de sobrevivientes que embarcaron en Queenstown.\n",
    "\n",
    "La hipótesis nula es que las proporciones de las muestras son iguales, la hipótesis alternativa es la proporción de sobrevivientes que embarcaron en Cherbourg es mayor que los que embarcaron en Queenstown.\n",
    "Para evaluar esto aplicaremos un test de proporción z de dos muestras."
   ]
  },
  {
   "cell_type": "code",
   "execution_count": 166,
   "id": "55e71d03",
   "metadata": {},
   "outputs": [
    {
     "name": "stdout",
     "output_type": "stream",
     "text": [
      "z_stat: 6.842, p_value: 0.000\n",
      "El p-value es menor al valor de significancia  de 0.05, por lo que se rechaza la hipótesis nula y se concluye que la muestra 1 es mayor que la muestra 2\n"
     ]
    }
   ],
   "source": [
    "from statsmodels.stats.proportion import proportions_ztest\n",
    "alfa = 0.05\n",
    "sample_C, sample_size_C = (df[(df['Embarked'] == 'C') & (df['Survived'] == 1)]['Embarked'].size, df[(df['Embarked'] == 'C') | (df['Embarked'] == 'Q') & (df['Survived'] == 1)]['Embarked'].size)\n",
    "sample_Q, sample_size_Q = (df[(df['Embarked'] == 'Q') & (df['Survived'] == 1)]['Embarked'].size, df[(df['Embarked'] == 'C') | (df['Embarked'] == 'Q') & (df['Survived'] == 1)]['Embarked'].size)\n",
    "\n",
    "samples = np.array([sample_C, sample_Q], dtype = object)\n",
    "samples_size = np.array([sample_size_C, sample_size_Q], dtype = object)\n",
    "\n",
    "stat, p_value = proportions_ztest(count=samples, nobs=samples_size,  alternative='larger')\n",
    "\n",
    "print('z_stat: %0.3f, p_value: %0.3f' % (stat, p_value))\n",
    "\n",
    "if p_value > alfa:\n",
    "   print (\"El p-value es mayor al valor de significancia de 0.05, por lo que no se puede rechazar la hipótesis nula y se concluye que las proporciones de las muestras son iguales\")\n",
    "else:\n",
    "   print (\"El p-value es menor al valor de significancia  de 0.05, por lo que se rechaza la hipótesis nula y se concluye que la muestra 1 es mayor que la muestra 2\")\n"
   ]
  },
  {
   "cell_type": "markdown",
   "id": "0f38f058",
   "metadata": {},
   "source": [
    "En nuestro caso la muestra 1 son los pasajeros sobrevivientes que embarcaron en el puerto Cherbourg, y la muestra 2 son los pasajeros sobrevivientes que embarcaron en el puerto Queenstown.\n",
    "Podemos concluir que, con un nivel de confianza del 95%, la proporción de todos los sobrevivientes del Titanic que embarcaron en el puerto Cherbourg es mayor la proporción de sobrevivientes que embarcaron en el puerto Queenstown."
   ]
  },
  {
   "cell_type": "markdown",
   "id": "c2a6f944",
   "metadata": {},
   "source": [
    "######  3. ¿El valor promedio del ticket de los pasajeros que sobrevivieron es mayor que el valor promedio del ticket de los pasajeros que no sobrevivieron?\n",
    "\n",
    "La tercer prueba estadística que se aplicará consistirá en un contraste de hipótesis sobre la media de dos muestras para determinar si el precio promedio del ticket de los pasajeros que sobrevivieron es mayor al precio promedio del ticket de aquellos que no lo hicieron. \n",
    "\n",
    "La hipótesis nula es que las medias de las muestras son iguales, la hipótesis alternativa es que el precio promedio del ticket de los sobrevivientes es mayor que el de los no sobrevivientes.\n",
    "\n",
    "La muestra 1 está formada por el valor de los tickets de aquellos pasajeros que sobrevivieron, y la muestra 2 está formada por el valor de los tickets de los pasajeros que no sobrevivieron. Como vimos anteriormente, la variable 'Fare' al tener más de 30 observaciones podemos considerarla normal basandonos en el Teorema del Limite Central, por lo que usaremos el t-test para realizar el análisis."
   ]
  },
  {
   "cell_type": "code",
   "execution_count": 167,
   "id": "96c58f3c",
   "metadata": {},
   "outputs": [
    {
     "data": {
      "text/plain": [
       "(342, 11)"
      ]
     },
     "execution_count": 167,
     "metadata": {},
     "output_type": "execute_result"
    }
   ],
   "source": [
    "df[(df['Survived'] == 1)].shape"
   ]
  },
  {
   "cell_type": "code",
   "execution_count": 168,
   "id": "b82a8221",
   "metadata": {},
   "outputs": [
    {
     "data": {
      "text/plain": [
       "(549,)"
      ]
     },
     "execution_count": 168,
     "metadata": {},
     "output_type": "execute_result"
    }
   ],
   "source": [
    "df[(df['Survived'] == 0)]['Pclass'].shape"
   ]
  },
  {
   "cell_type": "code",
   "execution_count": 169,
   "id": "1e419563",
   "metadata": {},
   "outputs": [
    {
     "name": "stdout",
     "output_type": "stream",
     "text": [
      "z_stat: 10.121, p_value: 0.000\n",
      "El p-value es menor al valor de significancia  de 0.05, por lo que se rechaza la hipótesis nula y se concluye que la media de la muestra 1 es mayor que la media de muestra 2\n"
     ]
    }
   ],
   "source": [
    "sample_1 = df[(df['Survived'] == 1)]['Fare']\n",
    "sample_2 = df[(df['Survived'] == 0)]['Fare']\n",
    "\n",
    "stat, p_value = stats.ttest_ind(sample_1, sample_2, equal_var=False, alternative='greater')\n",
    "\n",
    "print('z_stat: %0.3f, p_value: %0.3f' % (stat, p_value))\n",
    "\n",
    "if p_value > alfa:\n",
    "   print (\"El p-value es mayor al valor de significancia de 0.05, por lo que no se puede rechazar la hipótesis nula y se concluye que las medias de las muestras son iguales\")\n",
    "else:\n",
    "   print (\"El p-value es menor al valor de significancia  de 0.05, por lo que se rechaza la hipótesis nula y se concluye que la media de la muestra 1 es mayor que la media de muestra 2\")\n"
   ]
  },
  {
   "cell_type": "markdown",
   "id": "57ac1065",
   "metadata": {},
   "source": [
    "Teniendo en cuenta el resultado podemos concluir con un 95% de confianza que el valor del ticket promedio que pagaron los pasajeros que sobrevivieron es mayor al valor del ticket promedio que pagaron aquellos que no sobrevivieron, esto puede tener que ver con las medidas de seguridad diferenciales para las distintas clases y la prioridad que se les dio a unos frente a otros. "
   ]
  },
  {
   "cell_type": "markdown",
   "id": "257d4a1a",
   "metadata": {},
   "source": [
    "###### 4. Modelo de regresión logística\n",
    "\n",
    "Se utiliza el criterio de información de Akaike para determinar qué variables deben introducirse al modelo. Se considera la variable más importante aquella que da lugar al cambio más grande en el índice AIC, el cual está basado en el deviance y el número de parámetros del modelo. Primero se ajusta el modelo con solo la constante y se compara el modelo que resulta de introducir cada una de las variables. La que de un valor de AIC más pequeño es considerada la más importante y se introduce en el modelo.\n",
    "Teniendo en cuenta este criterio, el mejor modelo será aquel que explique la mayor parte de la varianza utilizando la menor cantidad de variables independientes posible."
   ]
  },
  {
   "cell_type": "code",
   "execution_count": 170,
   "id": "908ce3b4",
   "metadata": {},
   "outputs": [],
   "source": [
    "#Separamos la variable objetivo de las demas:\n",
    "\n",
    "df = df.dropna()\n",
    "y = df['Survived']\n",
    "x = df[['Pclass', 'Sex', 'Age','Fare', 'C','Q','S','FamilySize']]"
   ]
  },
  {
   "cell_type": "code",
   "execution_count": 171,
   "id": "c33ac199",
   "metadata": {},
   "outputs": [],
   "source": [
    "from sklearn.model_selection import train_test_split\n",
    "X_train,X_test,y_train,y_test = train_test_split(x,y,test_size=0.3,random_state=0) "
   ]
  },
  {
   "cell_type": "code",
   "execution_count": 172,
   "id": "20d109fb",
   "metadata": {},
   "outputs": [
    {
     "name": "stdout",
     "output_type": "stream",
     "text": [
      "Optimization terminated successfully.\n",
      "         Current function value: 0.442070\n",
      "         Iterations 6\n",
      "El AIC del modelo es:  566.8197667783448\n"
     ]
    }
   ],
   "source": [
    "import statsmodels.api as sm\n",
    "model = sm.Logit(y_train, X_train).fit()\n",
    "print(\"El AIC del modelo es: \",model.aic)"
   ]
  },
  {
   "cell_type": "code",
   "execution_count": 173,
   "id": "8d533c43",
   "metadata": {},
   "outputs": [
    {
     "name": "stdout",
     "output_type": "stream",
     "text": [
      "Optimization terminated successfully.\n",
      "         Current function value: 0.483925\n",
      "         Iterations 6\n",
      "El AIC del modelo 2 es:  608.9703652665874\n"
     ]
    }
   ],
   "source": [
    "x = df[['Sex', 'Pclass', 'Fare']]\n",
    "X_train,X_test,y_train,y_test = train_test_split(x,y,test_size=0.3,random_state=0) \n",
    "model2 = sm.Logit(y_train, X_train).fit()\n",
    "print(\"El AIC del modelo 2 es: \",model2.aic)"
   ]
  },
  {
   "cell_type": "code",
   "execution_count": 174,
   "id": "62c11d65",
   "metadata": {},
   "outputs": [
    {
     "name": "stdout",
     "output_type": "stream",
     "text": [
      "Optimization terminated successfully.\n",
      "         Current function value: 0.482078\n",
      "         Iterations 6\n",
      "El AIC del modelo 3 es:  608.6687388276806\n"
     ]
    }
   ],
   "source": [
    "x = df[['Sex', 'Pclass', 'Fare','Age']]\n",
    "X_train,X_test,y_train,y_test = train_test_split(x,y,test_size=0.3,random_state=0) \n",
    "\n",
    "model3 = sm.Logit(y_train, X_train).fit()\n",
    "print(\"El AIC del modelo 3 es: \",model3.aic)"
   ]
  },
  {
   "cell_type": "code",
   "execution_count": 175,
   "id": "f65e7c56",
   "metadata": {},
   "outputs": [
    {
     "name": "stdout",
     "output_type": "stream",
     "text": [
      "Optimization terminated successfully.\n",
      "         Current function value: 0.456196\n",
      "         Iterations 6\n",
      "El AIC del modelo 4 es:  578.420136521889\n"
     ]
    }
   ],
   "source": [
    "x = df[['Sex', 'Pclass', 'Fare','Age','FamilySize']]\n",
    "X_train,X_test,y_train,y_test = train_test_split(x,y,test_size=0.3,random_state=0) \n",
    "model4 = sm.Logit(y_train, X_train).fit()\n",
    "print(\"El AIC del modelo 4 es: \",model4.aic)"
   ]
  },
  {
   "cell_type": "code",
   "execution_count": 176,
   "id": "16fa5459",
   "metadata": {},
   "outputs": [
    {
     "name": "stdout",
     "output_type": "stream",
     "text": [
      "Optimization terminated successfully.\n",
      "         Current function value: 0.452661\n",
      "         Iterations 6\n",
      "El AIC del modelo 5 es:  578.015828244904\n"
     ]
    }
   ],
   "source": [
    "x = df[['Sex', 'Pclass', 'Fare','Age','C','Q','S']]\n",
    "X_train,X_test,y_train,y_test = train_test_split(x,y,test_size=0.3,random_state=0) \n",
    "model5 = sm.Logit(y_train, X_train).fit()\n",
    "print(\"El AIC del modelo 5 es: \",model5.aic)"
   ]
  },
  {
   "cell_type": "code",
   "execution_count": 177,
   "id": "a67fd648",
   "metadata": {},
   "outputs": [
    {
     "name": "stdout",
     "output_type": "stream",
     "text": [
      "Optimization terminated successfully.\n",
      "         Current function value: 0.453070\n",
      "         Iterations 6\n",
      "El AIC del modelo 6 es:  576.5256584883545\n"
     ]
    }
   ],
   "source": [
    "x = df[['Sex', 'Pclass','Age','C','Q','S']]\n",
    "X_train,X_test,y_train,y_test = train_test_split(x,y,test_size=0.3,random_state=0) \n",
    "model6 = sm.Logit(y_train, X_train).fit()\n",
    "print(\"El AIC del modelo 6 es: \",model6.aic)"
   ]
  },
  {
   "cell_type": "code",
   "execution_count": 178,
   "id": "8bd310bb",
   "metadata": {},
   "outputs": [
    {
     "name": "stdout",
     "output_type": "stream",
     "text": [
      "Optimization terminated successfully.\n",
      "         Current function value: 0.488881\n",
      "         Iterations 6\n",
      "El AIC del modelo 7 es:  621.1456073795332\n"
     ]
    }
   ],
   "source": [
    "x = df[['Sex', 'Fare','Age','C','Q','S']]\n",
    "X_train,X_test,y_train,y_test = train_test_split(x,y,test_size=0.3,random_state=0) \n",
    "model7 = sm.Logit(y_train, X_train).fit()\n",
    "print(\"El AIC del modelo 7 es: \",model7.aic)"
   ]
  },
  {
   "cell_type": "markdown",
   "id": "2f69e766",
   "metadata": {},
   "source": [
    "Luego de probar estas combinaciones de variables independientes vemos que la que mejor valor de AIC obtuvo es la primera, en la que consideramos a todas las variables.\n",
    "\n",
    "A continuación evaluamos la matriz de confusión del modelo elegido:"
   ]
  },
  {
   "cell_type": "code",
   "execution_count": 179,
   "id": "e27927a1",
   "metadata": {},
   "outputs": [
    {
     "name": "stdout",
     "output_type": "stream",
     "text": [
      "Optimization terminated successfully.\n",
      "         Current function value: 0.442070\n",
      "         Iterations 6\n"
     ]
    },
    {
     "data": {
      "image/png": "[encoded data removed]",
      "text/plain": [
       "<Figure size 432x288 with 2 Axes>"
      ]
     },
     "metadata": {
      "needs_background": "light"
     },
     "output_type": "display_data"
    },
    {
     "name": "stdout",
     "output_type": "stream",
     "text": [
      "Test accuracy =  0.8059701492537313\n"
     ]
    }
   ],
   "source": [
    "from sklearn.metrics import confusion_matrix, accuracy_score\n",
    "\n",
    "x = df[['Pclass', 'Sex', 'Age','Fare', 'C','Q','S','FamilySize']]\n",
    "X_train,X_test,y_train,y_test = train_test_split(x,y,test_size=0.3,random_state=0) \n",
    "model = sm.Logit(y_train, X_train).fit()\n",
    "y_pred_proba = model.predict(X_test)\n",
    "y_pred = list(map(round, y_pred_proba)) \n",
    "\n",
    "matrix = confusion_matrix(y_test, y_pred)\n",
    "sns.heatmap(matrix, annot=True, fmt=\"d\", cmap='Blues', square=True)\n",
    "plt.title('Matriz de confusión del set de prueba', fontsize = 15)\n",
    "plt.xlabel(\"predicción\")\n",
    "plt.ylabel(\"real\")\n",
    "plt.show()\n",
    "\n",
    "\n",
    "# accuracy score of the model\n",
    "print('Test accuracy = ', accuracy_score(y_test, y_pred))"
   ]
  },
  {
   "cell_type": "markdown",
   "id": "012bf349",
   "metadata": {},
   "source": [
    "Hemos obtenido un valor de accuracy de 0.8%, este es un indicadot de qué tan bien clasifica el modelo, está dado por: TN+TP/Total.\n",
    "\n",
    "A continuación se muestra la curva ROC "
   ]
  },
  {
   "cell_type": "code",
   "execution_count": 180,
   "id": "88b6d66c",
   "metadata": {},
   "outputs": [
    {
     "data": {
      "image/png": "[encoded data removed]",
      "text/plain": [
       "<Figure size 432x288 with 1 Axes>"
      ]
     },
     "metadata": {
      "needs_background": "light"
     },
     "output_type": "display_data"
    }
   ],
   "source": [
    "from sklearn.metrics import roc_curve, auc\n",
    "\n",
    "fpr, tpr, thresholds = roc_curve(y_test, y_pred)\n",
    "roc_auc = auc(fpr, tpr)\n",
    "plt.figure()\n",
    "lw = 2\n",
    "plt.plot(fpr, tpr, color='darkorange', lw=lw, label='ROC curve (area = %0.2f)' % roc_auc)\n",
    "plt.plot([0, 1], [0, 1], color='navy', lw=lw, linestyle='--')\n",
    "plt.xlim([0.0, 1.0])\n",
    "plt.ylim([0.0, 1.05])\n",
    "plt.xlabel('False Positive Rate')\n",
    "plt.ylabel('True Positive Rate')\n",
    "plt.title('Receiver operating characteristic example')\n",
    "plt.legend(loc=\"lower right\")\n",
    "plt.show()"
   ]
  },
  {
   "cell_type": "markdown",
   "id": "617c6ab4",
   "metadata": {},
   "source": [
    "El área debajo de la curva representa la habilidad del modelo para discriminar entre la clase negativa y la positiva. Un área de 1 representa un modelo que ha hecho todas las predicciones perfectas, mientras que un área de 0.5 representa el rendimiento de un modelo aleatorio. En este caso, el area es 0,75, lo cual esta bastante por encima de ser aleatorio. "
   ]
  },
  {
   "cell_type": "markdown",
   "id": "63e53d2d",
   "metadata": {},
   "source": [
    "* Predicciones:"
   ]
  },
  {
   "cell_type": "markdown",
   "id": "27ece159",
   "metadata": {},
   "source": [
    "Vamos a predecir la probabilidad de sobrevivir o no de una pasajera de sexo femenino, de tercera clase, de 25 años, que pagó un ticket de 7.5, que embarcó en S y que viajó con su marido: "
   ]
  },
  {
   "cell_type": "code",
   "execution_count": 181,
   "id": "91626787",
   "metadata": {},
   "outputs": [
    {
     "name": "stdout",
     "output_type": "stream",
     "text": [
      "La probabilidad de que una mujer de 25 años, que viajó en tercera clase con su marido, se embarcó en el puerto S y pagó un ticket de 5.5 USD es:  [83.72388289]\n"
     ]
    }
   ],
   "source": [
    "Xtest = [3, 0, 25, 5.5, 0, 0, 1, 1]\n",
    "ypred = model.predict(Xtest)\n",
    "print(\"La probabilidad de que una mujer de 25 años, que viajó en tercera clase con su marido, se embarcó en el puerto S y pagó un ticket de 5.5 USD es: \", ypred*100)"
   ]
  },
  {
   "cell_type": "code",
   "execution_count": 182,
   "id": "a9c2357c",
   "metadata": {},
   "outputs": [
    {
     "name": "stdout",
     "output_type": "stream",
     "text": [
      "La probabilidad de que un hombre de 25 años, que viajó en tercera clase con su mujer, se embarcó en el puerto S y pagó un ticket de 5.5 USD es:  [24.7365451]\n"
     ]
    }
   ],
   "source": [
    "Xtest = [3, 1, 25, 5.5, 0, 0, 1, 1]\n",
    "ypred = model.predict(Xtest)\n",
    "print(\"La probabilidad de que un hombre de 25 años, que viajó en tercera clase con su mujer, se embarcó en el puerto S y pagó un ticket de 5.5 USD es: \", ypred*100)"
   ]
  },
  {
   "cell_type": "code",
   "execution_count": 183,
   "id": "abf0ff67",
   "metadata": {},
   "outputs": [
    {
     "name": "stdout",
     "output_type": "stream",
     "text": [
      "La probabilidad de que una mujer de 25 años, que viajó en primera clase con su marido, se embarcó en el puerto S y pagó un ticket de 10.5 USD es:  [99.24384766]\n"
     ]
    }
   ],
   "source": [
    "Xtest = [1, 0, 25, 10.5, 0, 0, 1, 1]\n",
    "ypred = model.predict(Xtest)\n",
    "print(\"La probabilidad de que una mujer de 25 años, que viajó en primera clase con su marido, se embarcó en el puerto S y pagó un ticket de 10.5 USD es: \", ypred*100)"
   ]
  },
  {
   "cell_type": "code",
   "execution_count": 184,
   "id": "9c0ca6a2",
   "metadata": {},
   "outputs": [
    {
     "name": "stdout",
     "output_type": "stream",
     "text": [
      "La probabilidad de que un hombre de 25 años, que viajó en primera clase con su mujer, se embarcó en el puerto S y pagó un ticket de 10.5 USD es:  [89.34574155]\n"
     ]
    }
   ],
   "source": [
    "Xtest = [1, 1, 25, 10.5, 0, 0, 1, 1]\n",
    "ypred = model.predict(Xtest)\n",
    "print(\"La probabilidad de que un hombre de 25 años, que viajó en primera clase con su mujer, se embarcó en el puerto S y pagó un ticket de 10.5 USD es: \", ypred*100)"
   ]
  },
  {
   "cell_type": "code",
   "execution_count": 185,
   "id": "68b89f3e",
   "metadata": {},
   "outputs": [
    {
     "name": "stdout",
     "output_type": "stream",
     "text": [
      "La probabilidad de que un hombre de 55 años, que viajó en primera clase con su mujer, se embarcó en el puerto S y pagó un ticket de 15 USD es:  [90.09409919]\n"
     ]
    }
   ],
   "source": [
    "Xtest = [1, 1, 55, 15, 0, 0, 1, 1]\n",
    "ypred = model.predict(Xtest)\n",
    "print(\"La probabilidad de que un hombre de 55 años, que viajó en primera clase con su mujer, se embarcó en el puerto S y pagó un ticket de 15 USD es: \", ypred*100)"
   ]
  },
  {
   "cell_type": "code",
   "execution_count": 186,
   "id": "9dafc670",
   "metadata": {},
   "outputs": [
    {
     "name": "stdout",
     "output_type": "stream",
     "text": [
      "La probabilidad de que una mujer de 55 años, que viajó en primera clase con su marido, se embarcó en el puerto S y pagó un ticket de 15 USD es:  [95.72692961]\n"
     ]
    }
   ],
   "source": [
    "Xtest = [0, 1, 55, 15, 0, 0, 1, 1]\n",
    "ypred = model.predict(Xtest)\n",
    "print(\"La probabilidad de que una mujer de 55 años, que viajó en primera clase con su marido, se embarcó en el puerto S y pagó un ticket de 15 USD es: \", ypred*100)"
   ]
  },
  {
   "cell_type": "code",
   "execution_count": 187,
   "id": "42a11a03",
   "metadata": {},
   "outputs": [
    {
     "name": "stdout",
     "output_type": "stream",
     "text": [
      "La probabilidad de que un niño de 1 año, que viajó en primera clase con sus padres, se embarcó en el puerto C y pagó un ticket de 10 USD es:  [95.42725914]\n"
     ]
    }
   ],
   "source": [
    "Xtest = [1, 1, 1, 10, 1, 0, 0, 2]\n",
    "ypred = model.predict(Xtest)\n",
    "print(\"La probabilidad de que un niño de 1 año, que viajó en primera clase con sus padres, se embarcó en el puerto C y pagó un ticket de 10 USD es: \", ypred*100)"
   ]
  },
  {
   "cell_type": "code",
   "execution_count": 188,
   "id": "ce24c4d8",
   "metadata": {},
   "outputs": [
    {
     "name": "stdout",
     "output_type": "stream",
     "text": [
      "La probabilidad de que un niño de 1 año, que viajó en tercera clase con sus padres, se embarcó en el puerto C y pagó un ticket de 7 USD es:  [59.23133604]\n"
     ]
    }
   ],
   "source": [
    "Xtest = [3, 1, 1, 7, 1, 0, 0, 2]\n",
    "ypred = model.predict(Xtest)\n",
    "print(\"La probabilidad de que un niño de 1 año, que viajó en tercera clase con sus padres, se embarcó en el puerto C y pagó un ticket de 7 USD es: \", ypred*100)"
   ]
  },
  {
   "cell_type": "markdown",
   "id": "1179d2b8",
   "metadata": {},
   "source": [
    "## 6. Resolución del problema"
   ]
  },
  {
   "cell_type": "markdown",
   "id": "c8f095aa",
   "metadata": {},
   "source": [
    "Para resolver la pregunta de cuál es la variable que más influye al momento de determinar si un pasajero sobrevivió o no al hundimiento del Titanic aplicamos el test de Spearman, que es una alternativa no paramétrica a la correlación de Pearson para medir el grado de dependencia entre variables. \n",
    "Pudimos observar que la principal dependencia aparecía entre la variable Survived y Sex, con un coeficiente de -0,54, y luego seguía la dependencia moderada/débil entre Survived y Pclass (-0.34) y entre Survived y Fare (0.32). "
   ]
  },
  {
   "cell_type": "markdown",
   "id": "315e22ed",
   "metadata": {},
   "source": [
    "La segunda pregunta que queríamos resolver era si podíamos inferir a partir de esta muestra que la proporción de pasajeros sobrevivientes que embarcaron en el puerto Cherbourg fue mayor a la proporción de sobrevivientes que embarcaron en el puerto Queenstown. \n",
    "Estamos frente a un test de proporción de dos muestras bilateral por la derecha.\n",
    "Para resolverla utilizamos el test Z de proporción de dos muestras independientes, seteando la alternativa \"greater\" ya que nuestra hipótesis alternativa es que la proporción de la primera muestra (los sobrevivientes que embarcaron en C) era mayor que la segunda (los sobrevivientes que embarcaron en Q). Pudimos concluir con un nivel de confianza del 95%, que la hipótesis alternativa era cierta. "
   ]
  },
  {
   "cell_type": "markdown",
   "id": "dceaf317",
   "metadata": {},
   "source": [
    "Luego nos planteamos la pregunta de si el valor promedio del ticket que pagaron aquellos pasajeros que sobrevivieron era mayor al que pagaron aquellos que no sobrevivieron. En este caso estamos ante un test de contraste de hipótesis de dos muestras independientes sobre la media, y particularmente este caso se trata de un contraste biilateral por la derecha (ya que la hipótesis alternativa indica que la media es mayor). \n",
    "Para resolverlo utilizamos el T-test para las medias de dos muestras independientes, obtuvimos como resultado que con un 95% de confianza, el valor del ticket promedio que pagaron los pasajeros que sobrevivieron es mayor al valor del ticket promedio que pagaron aquellos que no sobrevivieron."
   ]
  },
  {
   "cell_type": "markdown",
   "id": "fb3b9063",
   "metadata": {},
   "source": [
    "Por último, creamos un modelo de regresión logística para poder predecir si un pasajero sobrevivirá o no teniendo en cuenta algunas variables independientes. Para poder determinar qué variables utilizar probamos distintas combinaciones y nos quedamos con el modelo que devolvió el menor AIC. Luego, pudimos utilizar este modelo para predecir la probabilidad de que un pasajero sobreviva dadas ciertos valores de: Sexo, Clase, Valor del ticket, Tamaño de la familia y el puerto de embarque. \n",
    "* Según los resultados que vimos, podemos sacar algunas conclusiones:\n",
    "    - Si el pasajero viajó en tercera clase, la probabilidad de sobrevivir es menor que si viajo en primera\n",
    "    - Si el pasajero era hombre, la probabilidad de sobrevivir es menor que si era mujer.\n",
    "    - Si el pasajero era hombre de tercera clase la probabilidad de sobrevivir es muy baja.\n",
    "    - Si el pasajero era un niño o bebé las probabilidades de sobrevivir son más altas."
   ]
  },
  {
   "cell_type": "code",
   "execution_count": null,
   "id": "7d1db26a",
   "metadata": {},
   "outputs": [],
   "source": []
  }
 ],
 "metadata": {
  "kernelspec": {
   "display_name": "Python 3 (ipykernel)",
   "language": "python",
   "name": "python3"
  },
  "language_info": {
   "codemirror_mode": {
    "name": "ipython",
    "version": 3
   },
   "file_extension": ".py",
   "mimetype": "text/x-python",
   "name": "python",
   "nbconvert_exporter": "python",
   "pygments_lexer": "ipython3",
   "version": "3.8.12"
  }
 },
 "nbformat": 4,
 "nbformat_minor": 5
}
